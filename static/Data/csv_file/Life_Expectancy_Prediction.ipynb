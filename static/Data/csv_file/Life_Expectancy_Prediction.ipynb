{
 "cells": [
  {
   "cell_type": "code",
   "execution_count": 1,
   "id": "6d85af87",
   "metadata": {},
   "outputs": [],
   "source": [
    "import numpy as np\n",
    "import pandas as pd\n",
    "import matplotlib.pyplot as plt\n",
    "import seaborn as sns\n",
    "from sklearn.model_selection import train_test_split\n",
    "from sklearn.linear_model import LinearRegression\n",
    "from sklearn.metrics import mean_absolute_error,mean_squared_error,r2_score\n",
    "from statsmodels.stats.outliers_influence import variance_inflation_factor\n",
    "import json\n",
    "import pickle\n"
   ]
  },
  {
   "cell_type": "markdown",
   "id": "c336e074",
   "metadata": {},
   "source": [
    "#### 1. Problem Statement"
   ]
  },
  {
   "cell_type": "raw",
   "id": "034c9557",
   "metadata": {},
   "source": [
    "Life Expectancy prediction by using below features\n",
    "\n",
    "Country\n",
    "Year\n",
    "Status\n",
    "Life expectancy \n",
    "Adult Mortality\n",
    "infant deaths\n",
    "Alcohol\n",
    "percentage expenditure\n",
    "Hepatitis B\n",
    "Measles \n",
    "BMI \n",
    "under-five deaths \n",
    "Polio\n",
    "Total expenditure\n",
    "Diphtheria \n",
    "HIV/AIDS\n",
    "GDP\n",
    "Population\n",
    "thinness  1-19 years\n",
    "thinness 5-9 years\n",
    "Income composition of resources\n",
    "Schooling\n"
   ]
  },
  {
   "cell_type": "markdown",
   "id": "1053a27b",
   "metadata": {},
   "source": [
    "#### 2. Data Gathering"
   ]
  },
  {
   "cell_type": "code",
   "execution_count": 2,
   "id": "9a550148",
   "metadata": {},
   "outputs": [
    {
     "data": {
      "text/html": [
       "<div>\n",
       "<style scoped>\n",
       "    .dataframe tbody tr th:only-of-type {\n",
       "        vertical-align: middle;\n",
       "    }\n",
       "\n",
       "    .dataframe tbody tr th {\n",
       "        vertical-align: top;\n",
       "    }\n",
       "\n",
       "    .dataframe thead th {\n",
       "        text-align: right;\n",
       "    }\n",
       "</style>\n",
       "<table border=\"1\" class=\"dataframe\">\n",
       "  <thead>\n",
       "    <tr style=\"text-align: right;\">\n",
       "      <th></th>\n",
       "      <th>Country</th>\n",
       "      <th>Year</th>\n",
       "      <th>Status</th>\n",
       "      <th>Life expectancy</th>\n",
       "      <th>Adult Mortality</th>\n",
       "      <th>infant deaths</th>\n",
       "      <th>Alcohol</th>\n",
       "      <th>percentage expenditure</th>\n",
       "      <th>Hepatitis B</th>\n",
       "      <th>Measles</th>\n",
       "      <th>...</th>\n",
       "      <th>Polio</th>\n",
       "      <th>Total expenditure</th>\n",
       "      <th>Diphtheria</th>\n",
       "      <th>HIV/AIDS</th>\n",
       "      <th>GDP</th>\n",
       "      <th>Population</th>\n",
       "      <th>thinness  1-19 years</th>\n",
       "      <th>thinness 5-9 years</th>\n",
       "      <th>Income composition of resources</th>\n",
       "      <th>Schooling</th>\n",
       "    </tr>\n",
       "  </thead>\n",
       "  <tbody>\n",
       "    <tr>\n",
       "      <th>0</th>\n",
       "      <td>Afghanistan</td>\n",
       "      <td>2015</td>\n",
       "      <td>Developing</td>\n",
       "      <td>65.0</td>\n",
       "      <td>263.0</td>\n",
       "      <td>62</td>\n",
       "      <td>0.01</td>\n",
       "      <td>71.279624</td>\n",
       "      <td>65.0</td>\n",
       "      <td>1154</td>\n",
       "      <td>...</td>\n",
       "      <td>6.0</td>\n",
       "      <td>8.16</td>\n",
       "      <td>65.0</td>\n",
       "      <td>0.1</td>\n",
       "      <td>584.259210</td>\n",
       "      <td>33736494.0</td>\n",
       "      <td>17.2</td>\n",
       "      <td>17.3</td>\n",
       "      <td>0.479</td>\n",
       "      <td>10.1</td>\n",
       "    </tr>\n",
       "    <tr>\n",
       "      <th>1</th>\n",
       "      <td>Afghanistan</td>\n",
       "      <td>2014</td>\n",
       "      <td>Developing</td>\n",
       "      <td>59.9</td>\n",
       "      <td>271.0</td>\n",
       "      <td>64</td>\n",
       "      <td>0.01</td>\n",
       "      <td>73.523582</td>\n",
       "      <td>62.0</td>\n",
       "      <td>492</td>\n",
       "      <td>...</td>\n",
       "      <td>58.0</td>\n",
       "      <td>8.18</td>\n",
       "      <td>62.0</td>\n",
       "      <td>0.1</td>\n",
       "      <td>612.696514</td>\n",
       "      <td>327582.0</td>\n",
       "      <td>17.5</td>\n",
       "      <td>17.5</td>\n",
       "      <td>0.476</td>\n",
       "      <td>10.0</td>\n",
       "    </tr>\n",
       "    <tr>\n",
       "      <th>2</th>\n",
       "      <td>Afghanistan</td>\n",
       "      <td>2013</td>\n",
       "      <td>Developing</td>\n",
       "      <td>59.9</td>\n",
       "      <td>268.0</td>\n",
       "      <td>66</td>\n",
       "      <td>0.01</td>\n",
       "      <td>73.219243</td>\n",
       "      <td>64.0</td>\n",
       "      <td>430</td>\n",
       "      <td>...</td>\n",
       "      <td>62.0</td>\n",
       "      <td>8.13</td>\n",
       "      <td>64.0</td>\n",
       "      <td>0.1</td>\n",
       "      <td>631.744976</td>\n",
       "      <td>31731688.0</td>\n",
       "      <td>17.7</td>\n",
       "      <td>17.7</td>\n",
       "      <td>0.470</td>\n",
       "      <td>9.9</td>\n",
       "    </tr>\n",
       "    <tr>\n",
       "      <th>3</th>\n",
       "      <td>Afghanistan</td>\n",
       "      <td>2012</td>\n",
       "      <td>Developing</td>\n",
       "      <td>59.5</td>\n",
       "      <td>272.0</td>\n",
       "      <td>69</td>\n",
       "      <td>0.01</td>\n",
       "      <td>78.184215</td>\n",
       "      <td>67.0</td>\n",
       "      <td>2787</td>\n",
       "      <td>...</td>\n",
       "      <td>67.0</td>\n",
       "      <td>8.52</td>\n",
       "      <td>67.0</td>\n",
       "      <td>0.1</td>\n",
       "      <td>669.959000</td>\n",
       "      <td>3696958.0</td>\n",
       "      <td>17.9</td>\n",
       "      <td>18.0</td>\n",
       "      <td>0.463</td>\n",
       "      <td>9.8</td>\n",
       "    </tr>\n",
       "    <tr>\n",
       "      <th>4</th>\n",
       "      <td>Afghanistan</td>\n",
       "      <td>2011</td>\n",
       "      <td>Developing</td>\n",
       "      <td>59.2</td>\n",
       "      <td>275.0</td>\n",
       "      <td>71</td>\n",
       "      <td>0.01</td>\n",
       "      <td>7.097109</td>\n",
       "      <td>68.0</td>\n",
       "      <td>3013</td>\n",
       "      <td>...</td>\n",
       "      <td>68.0</td>\n",
       "      <td>7.87</td>\n",
       "      <td>68.0</td>\n",
       "      <td>0.1</td>\n",
       "      <td>63.537231</td>\n",
       "      <td>2978599.0</td>\n",
       "      <td>18.2</td>\n",
       "      <td>18.2</td>\n",
       "      <td>0.454</td>\n",
       "      <td>9.5</td>\n",
       "    </tr>\n",
       "    <tr>\n",
       "      <th>...</th>\n",
       "      <td>...</td>\n",
       "      <td>...</td>\n",
       "      <td>...</td>\n",
       "      <td>...</td>\n",
       "      <td>...</td>\n",
       "      <td>...</td>\n",
       "      <td>...</td>\n",
       "      <td>...</td>\n",
       "      <td>...</td>\n",
       "      <td>...</td>\n",
       "      <td>...</td>\n",
       "      <td>...</td>\n",
       "      <td>...</td>\n",
       "      <td>...</td>\n",
       "      <td>...</td>\n",
       "      <td>...</td>\n",
       "      <td>...</td>\n",
       "      <td>...</td>\n",
       "      <td>...</td>\n",
       "      <td>...</td>\n",
       "      <td>...</td>\n",
       "    </tr>\n",
       "    <tr>\n",
       "      <th>2933</th>\n",
       "      <td>Zimbabwe</td>\n",
       "      <td>2004</td>\n",
       "      <td>Developing</td>\n",
       "      <td>44.3</td>\n",
       "      <td>723.0</td>\n",
       "      <td>27</td>\n",
       "      <td>4.36</td>\n",
       "      <td>0.000000</td>\n",
       "      <td>68.0</td>\n",
       "      <td>31</td>\n",
       "      <td>...</td>\n",
       "      <td>67.0</td>\n",
       "      <td>7.13</td>\n",
       "      <td>65.0</td>\n",
       "      <td>33.6</td>\n",
       "      <td>454.366654</td>\n",
       "      <td>12777511.0</td>\n",
       "      <td>9.4</td>\n",
       "      <td>9.4</td>\n",
       "      <td>0.407</td>\n",
       "      <td>9.2</td>\n",
       "    </tr>\n",
       "    <tr>\n",
       "      <th>2934</th>\n",
       "      <td>Zimbabwe</td>\n",
       "      <td>2003</td>\n",
       "      <td>Developing</td>\n",
       "      <td>44.5</td>\n",
       "      <td>715.0</td>\n",
       "      <td>26</td>\n",
       "      <td>4.06</td>\n",
       "      <td>0.000000</td>\n",
       "      <td>7.0</td>\n",
       "      <td>998</td>\n",
       "      <td>...</td>\n",
       "      <td>7.0</td>\n",
       "      <td>6.52</td>\n",
       "      <td>68.0</td>\n",
       "      <td>36.7</td>\n",
       "      <td>453.351155</td>\n",
       "      <td>12633897.0</td>\n",
       "      <td>9.8</td>\n",
       "      <td>9.9</td>\n",
       "      <td>0.418</td>\n",
       "      <td>9.5</td>\n",
       "    </tr>\n",
       "    <tr>\n",
       "      <th>2935</th>\n",
       "      <td>Zimbabwe</td>\n",
       "      <td>2002</td>\n",
       "      <td>Developing</td>\n",
       "      <td>44.8</td>\n",
       "      <td>73.0</td>\n",
       "      <td>25</td>\n",
       "      <td>4.43</td>\n",
       "      <td>0.000000</td>\n",
       "      <td>73.0</td>\n",
       "      <td>304</td>\n",
       "      <td>...</td>\n",
       "      <td>73.0</td>\n",
       "      <td>6.53</td>\n",
       "      <td>71.0</td>\n",
       "      <td>39.8</td>\n",
       "      <td>57.348340</td>\n",
       "      <td>125525.0</td>\n",
       "      <td>1.2</td>\n",
       "      <td>1.3</td>\n",
       "      <td>0.427</td>\n",
       "      <td>10.0</td>\n",
       "    </tr>\n",
       "    <tr>\n",
       "      <th>2936</th>\n",
       "      <td>Zimbabwe</td>\n",
       "      <td>2001</td>\n",
       "      <td>Developing</td>\n",
       "      <td>45.3</td>\n",
       "      <td>686.0</td>\n",
       "      <td>25</td>\n",
       "      <td>1.72</td>\n",
       "      <td>0.000000</td>\n",
       "      <td>76.0</td>\n",
       "      <td>529</td>\n",
       "      <td>...</td>\n",
       "      <td>76.0</td>\n",
       "      <td>6.16</td>\n",
       "      <td>75.0</td>\n",
       "      <td>42.1</td>\n",
       "      <td>548.587312</td>\n",
       "      <td>12366165.0</td>\n",
       "      <td>1.6</td>\n",
       "      <td>1.7</td>\n",
       "      <td>0.427</td>\n",
       "      <td>9.8</td>\n",
       "    </tr>\n",
       "    <tr>\n",
       "      <th>2937</th>\n",
       "      <td>Zimbabwe</td>\n",
       "      <td>2000</td>\n",
       "      <td>Developing</td>\n",
       "      <td>46.0</td>\n",
       "      <td>665.0</td>\n",
       "      <td>24</td>\n",
       "      <td>1.68</td>\n",
       "      <td>0.000000</td>\n",
       "      <td>79.0</td>\n",
       "      <td>1483</td>\n",
       "      <td>...</td>\n",
       "      <td>78.0</td>\n",
       "      <td>7.10</td>\n",
       "      <td>78.0</td>\n",
       "      <td>43.5</td>\n",
       "      <td>547.358878</td>\n",
       "      <td>12222251.0</td>\n",
       "      <td>11.0</td>\n",
       "      <td>11.2</td>\n",
       "      <td>0.434</td>\n",
       "      <td>9.8</td>\n",
       "    </tr>\n",
       "  </tbody>\n",
       "</table>\n",
       "<p>2938 rows × 22 columns</p>\n",
       "</div>"
      ],
      "text/plain": [
       "          Country  Year      Status  Life expectancy   Adult Mortality   \n",
       "0     Afghanistan  2015  Developing              65.0            263.0  \\\n",
       "1     Afghanistan  2014  Developing              59.9            271.0   \n",
       "2     Afghanistan  2013  Developing              59.9            268.0   \n",
       "3     Afghanistan  2012  Developing              59.5            272.0   \n",
       "4     Afghanistan  2011  Developing              59.2            275.0   \n",
       "...           ...   ...         ...               ...              ...   \n",
       "2933     Zimbabwe  2004  Developing              44.3            723.0   \n",
       "2934     Zimbabwe  2003  Developing              44.5            715.0   \n",
       "2935     Zimbabwe  2002  Developing              44.8             73.0   \n",
       "2936     Zimbabwe  2001  Developing              45.3            686.0   \n",
       "2937     Zimbabwe  2000  Developing              46.0            665.0   \n",
       "\n",
       "      infant deaths  Alcohol  percentage expenditure  Hepatitis B  Measles    \n",
       "0                62     0.01               71.279624         65.0      1154  \\\n",
       "1                64     0.01               73.523582         62.0       492   \n",
       "2                66     0.01               73.219243         64.0       430   \n",
       "3                69     0.01               78.184215         67.0      2787   \n",
       "4                71     0.01                7.097109         68.0      3013   \n",
       "...             ...      ...                     ...          ...       ...   \n",
       "2933             27     4.36                0.000000         68.0        31   \n",
       "2934             26     4.06                0.000000          7.0       998   \n",
       "2935             25     4.43                0.000000         73.0       304   \n",
       "2936             25     1.72                0.000000         76.0       529   \n",
       "2937             24     1.68                0.000000         79.0      1483   \n",
       "\n",
       "      ...  Polio  Total expenditure  Diphtheria    HIV/AIDS         GDP   \n",
       "0     ...    6.0               8.16         65.0        0.1  584.259210  \\\n",
       "1     ...   58.0               8.18         62.0        0.1  612.696514   \n",
       "2     ...   62.0               8.13         64.0        0.1  631.744976   \n",
       "3     ...   67.0               8.52         67.0        0.1  669.959000   \n",
       "4     ...   68.0               7.87         68.0        0.1   63.537231   \n",
       "...   ...    ...                ...          ...        ...         ...   \n",
       "2933  ...   67.0               7.13         65.0       33.6  454.366654   \n",
       "2934  ...    7.0               6.52         68.0       36.7  453.351155   \n",
       "2935  ...   73.0               6.53         71.0       39.8   57.348340   \n",
       "2936  ...   76.0               6.16         75.0       42.1  548.587312   \n",
       "2937  ...   78.0               7.10         78.0       43.5  547.358878   \n",
       "\n",
       "      Population   thinness  1-19 years   thinness 5-9 years   \n",
       "0     33736494.0                   17.2                 17.3  \\\n",
       "1       327582.0                   17.5                 17.5   \n",
       "2     31731688.0                   17.7                 17.7   \n",
       "3      3696958.0                   17.9                 18.0   \n",
       "4      2978599.0                   18.2                 18.2   \n",
       "...          ...                    ...                  ...   \n",
       "2933  12777511.0                    9.4                  9.4   \n",
       "2934  12633897.0                    9.8                  9.9   \n",
       "2935    125525.0                    1.2                  1.3   \n",
       "2936  12366165.0                    1.6                  1.7   \n",
       "2937  12222251.0                   11.0                 11.2   \n",
       "\n",
       "      Income composition of resources  Schooling  \n",
       "0                               0.479       10.1  \n",
       "1                               0.476       10.0  \n",
       "2                               0.470        9.9  \n",
       "3                               0.463        9.8  \n",
       "4                               0.454        9.5  \n",
       "...                               ...        ...  \n",
       "2933                            0.407        9.2  \n",
       "2934                            0.418        9.5  \n",
       "2935                            0.427       10.0  \n",
       "2936                            0.427        9.8  \n",
       "2937                            0.434        9.8  \n",
       "\n",
       "[2938 rows x 22 columns]"
      ]
     },
     "execution_count": 2,
     "metadata": {},
     "output_type": "execute_result"
    }
   ],
   "source": [
    "df=pd.read_csv('Life Expectancy Data.csv')\n",
    "df"
   ]
  },
  {
   "cell_type": "markdown",
   "id": "3539275c",
   "metadata": {},
   "source": [
    "###### 3. EDA"
   ]
  },
  {
   "cell_type": "code",
   "execution_count": 4,
   "id": "b53aceaa",
   "metadata": {},
   "outputs": [],
   "source": [
    "columns_list=df.columns"
   ]
  },
  {
   "cell_type": "code",
   "execution_count": 5,
   "id": "f5f7bf70",
   "metadata": {},
   "outputs": [],
   "source": [
    "import re"
   ]
  },
  {
   "cell_type": "code",
   "execution_count": 15,
   "id": "8bd86a30",
   "metadata": {},
   "outputs": [
    {
     "name": "stdout",
     "output_type": "stream",
     "text": [
      "['Country', 'Year', 'Status', 'Life_expectancy', 'Adult_Mortality', 'infant_deaths', 'Alcohol', 'percentage_expenditure', 'Hepatitis_B', 'Measles', 'BMI', 'under_five_deaths', 'Polio', 'Total_expenditure', 'Diphtheria', 'HIV_AIDS', 'GDP', 'Population', 'thinness__1_19_years', 'thinness_5_9_years', 'Income_composition_of_resources', 'Schooling']\n"
     ]
    }
   ],
   "source": [
    "col_list=[]\n",
    "for col_name in columns_list:\n",
    "    col_name=re.sub('[-/]','_',col_name.strip())\n",
    "    col_name=re.sub(' ','_',col_name)\n",
    "    col_list.append(col_name)\n",
    "print(col_list)"
   ]
  },
  {
   "cell_type": "code",
   "execution_count": 16,
   "id": "42a96aff",
   "metadata": {},
   "outputs": [],
   "source": [
    "df.columns=col_list"
   ]
  },
  {
   "cell_type": "code",
   "execution_count": 17,
   "id": "27122d84",
   "metadata": {},
   "outputs": [
    {
     "data": {
      "text/html": [
       "<div>\n",
       "<style scoped>\n",
       "    .dataframe tbody tr th:only-of-type {\n",
       "        vertical-align: middle;\n",
       "    }\n",
       "\n",
       "    .dataframe tbody tr th {\n",
       "        vertical-align: top;\n",
       "    }\n",
       "\n",
       "    .dataframe thead th {\n",
       "        text-align: right;\n",
       "    }\n",
       "</style>\n",
       "<table border=\"1\" class=\"dataframe\">\n",
       "  <thead>\n",
       "    <tr style=\"text-align: right;\">\n",
       "      <th></th>\n",
       "      <th>Country</th>\n",
       "      <th>Year</th>\n",
       "      <th>Status</th>\n",
       "      <th>Life_expectancy</th>\n",
       "      <th>Adult_Mortality</th>\n",
       "      <th>infant_deaths</th>\n",
       "      <th>Alcohol</th>\n",
       "      <th>percentage_expenditure</th>\n",
       "      <th>Hepatitis_B</th>\n",
       "      <th>Measles</th>\n",
       "      <th>...</th>\n",
       "      <th>Polio</th>\n",
       "      <th>Total_expenditure</th>\n",
       "      <th>Diphtheria</th>\n",
       "      <th>HIV_AIDS</th>\n",
       "      <th>GDP</th>\n",
       "      <th>Population</th>\n",
       "      <th>thinness__1_19_years</th>\n",
       "      <th>thinness_5_9_years</th>\n",
       "      <th>Income_composition_of_resources</th>\n",
       "      <th>Schooling</th>\n",
       "    </tr>\n",
       "  </thead>\n",
       "  <tbody>\n",
       "    <tr>\n",
       "      <th>0</th>\n",
       "      <td>Afghanistan</td>\n",
       "      <td>2015</td>\n",
       "      <td>Developing</td>\n",
       "      <td>65.0</td>\n",
       "      <td>263.0</td>\n",
       "      <td>62</td>\n",
       "      <td>0.01</td>\n",
       "      <td>71.279624</td>\n",
       "      <td>65.0</td>\n",
       "      <td>1154</td>\n",
       "      <td>...</td>\n",
       "      <td>6.0</td>\n",
       "      <td>8.16</td>\n",
       "      <td>65.0</td>\n",
       "      <td>0.1</td>\n",
       "      <td>584.259210</td>\n",
       "      <td>33736494.0</td>\n",
       "      <td>17.2</td>\n",
       "      <td>17.3</td>\n",
       "      <td>0.479</td>\n",
       "      <td>10.1</td>\n",
       "    </tr>\n",
       "    <tr>\n",
       "      <th>1</th>\n",
       "      <td>Afghanistan</td>\n",
       "      <td>2014</td>\n",
       "      <td>Developing</td>\n",
       "      <td>59.9</td>\n",
       "      <td>271.0</td>\n",
       "      <td>64</td>\n",
       "      <td>0.01</td>\n",
       "      <td>73.523582</td>\n",
       "      <td>62.0</td>\n",
       "      <td>492</td>\n",
       "      <td>...</td>\n",
       "      <td>58.0</td>\n",
       "      <td>8.18</td>\n",
       "      <td>62.0</td>\n",
       "      <td>0.1</td>\n",
       "      <td>612.696514</td>\n",
       "      <td>327582.0</td>\n",
       "      <td>17.5</td>\n",
       "      <td>17.5</td>\n",
       "      <td>0.476</td>\n",
       "      <td>10.0</td>\n",
       "    </tr>\n",
       "    <tr>\n",
       "      <th>2</th>\n",
       "      <td>Afghanistan</td>\n",
       "      <td>2013</td>\n",
       "      <td>Developing</td>\n",
       "      <td>59.9</td>\n",
       "      <td>268.0</td>\n",
       "      <td>66</td>\n",
       "      <td>0.01</td>\n",
       "      <td>73.219243</td>\n",
       "      <td>64.0</td>\n",
       "      <td>430</td>\n",
       "      <td>...</td>\n",
       "      <td>62.0</td>\n",
       "      <td>8.13</td>\n",
       "      <td>64.0</td>\n",
       "      <td>0.1</td>\n",
       "      <td>631.744976</td>\n",
       "      <td>31731688.0</td>\n",
       "      <td>17.7</td>\n",
       "      <td>17.7</td>\n",
       "      <td>0.470</td>\n",
       "      <td>9.9</td>\n",
       "    </tr>\n",
       "    <tr>\n",
       "      <th>3</th>\n",
       "      <td>Afghanistan</td>\n",
       "      <td>2012</td>\n",
       "      <td>Developing</td>\n",
       "      <td>59.5</td>\n",
       "      <td>272.0</td>\n",
       "      <td>69</td>\n",
       "      <td>0.01</td>\n",
       "      <td>78.184215</td>\n",
       "      <td>67.0</td>\n",
       "      <td>2787</td>\n",
       "      <td>...</td>\n",
       "      <td>67.0</td>\n",
       "      <td>8.52</td>\n",
       "      <td>67.0</td>\n",
       "      <td>0.1</td>\n",
       "      <td>669.959000</td>\n",
       "      <td>3696958.0</td>\n",
       "      <td>17.9</td>\n",
       "      <td>18.0</td>\n",
       "      <td>0.463</td>\n",
       "      <td>9.8</td>\n",
       "    </tr>\n",
       "    <tr>\n",
       "      <th>4</th>\n",
       "      <td>Afghanistan</td>\n",
       "      <td>2011</td>\n",
       "      <td>Developing</td>\n",
       "      <td>59.2</td>\n",
       "      <td>275.0</td>\n",
       "      <td>71</td>\n",
       "      <td>0.01</td>\n",
       "      <td>7.097109</td>\n",
       "      <td>68.0</td>\n",
       "      <td>3013</td>\n",
       "      <td>...</td>\n",
       "      <td>68.0</td>\n",
       "      <td>7.87</td>\n",
       "      <td>68.0</td>\n",
       "      <td>0.1</td>\n",
       "      <td>63.537231</td>\n",
       "      <td>2978599.0</td>\n",
       "      <td>18.2</td>\n",
       "      <td>18.2</td>\n",
       "      <td>0.454</td>\n",
       "      <td>9.5</td>\n",
       "    </tr>\n",
       "    <tr>\n",
       "      <th>...</th>\n",
       "      <td>...</td>\n",
       "      <td>...</td>\n",
       "      <td>...</td>\n",
       "      <td>...</td>\n",
       "      <td>...</td>\n",
       "      <td>...</td>\n",
       "      <td>...</td>\n",
       "      <td>...</td>\n",
       "      <td>...</td>\n",
       "      <td>...</td>\n",
       "      <td>...</td>\n",
       "      <td>...</td>\n",
       "      <td>...</td>\n",
       "      <td>...</td>\n",
       "      <td>...</td>\n",
       "      <td>...</td>\n",
       "      <td>...</td>\n",
       "      <td>...</td>\n",
       "      <td>...</td>\n",
       "      <td>...</td>\n",
       "      <td>...</td>\n",
       "    </tr>\n",
       "    <tr>\n",
       "      <th>2933</th>\n",
       "      <td>Zimbabwe</td>\n",
       "      <td>2004</td>\n",
       "      <td>Developing</td>\n",
       "      <td>44.3</td>\n",
       "      <td>723.0</td>\n",
       "      <td>27</td>\n",
       "      <td>4.36</td>\n",
       "      <td>0.000000</td>\n",
       "      <td>68.0</td>\n",
       "      <td>31</td>\n",
       "      <td>...</td>\n",
       "      <td>67.0</td>\n",
       "      <td>7.13</td>\n",
       "      <td>65.0</td>\n",
       "      <td>33.6</td>\n",
       "      <td>454.366654</td>\n",
       "      <td>12777511.0</td>\n",
       "      <td>9.4</td>\n",
       "      <td>9.4</td>\n",
       "      <td>0.407</td>\n",
       "      <td>9.2</td>\n",
       "    </tr>\n",
       "    <tr>\n",
       "      <th>2934</th>\n",
       "      <td>Zimbabwe</td>\n",
       "      <td>2003</td>\n",
       "      <td>Developing</td>\n",
       "      <td>44.5</td>\n",
       "      <td>715.0</td>\n",
       "      <td>26</td>\n",
       "      <td>4.06</td>\n",
       "      <td>0.000000</td>\n",
       "      <td>7.0</td>\n",
       "      <td>998</td>\n",
       "      <td>...</td>\n",
       "      <td>7.0</td>\n",
       "      <td>6.52</td>\n",
       "      <td>68.0</td>\n",
       "      <td>36.7</td>\n",
       "      <td>453.351155</td>\n",
       "      <td>12633897.0</td>\n",
       "      <td>9.8</td>\n",
       "      <td>9.9</td>\n",
       "      <td>0.418</td>\n",
       "      <td>9.5</td>\n",
       "    </tr>\n",
       "    <tr>\n",
       "      <th>2935</th>\n",
       "      <td>Zimbabwe</td>\n",
       "      <td>2002</td>\n",
       "      <td>Developing</td>\n",
       "      <td>44.8</td>\n",
       "      <td>73.0</td>\n",
       "      <td>25</td>\n",
       "      <td>4.43</td>\n",
       "      <td>0.000000</td>\n",
       "      <td>73.0</td>\n",
       "      <td>304</td>\n",
       "      <td>...</td>\n",
       "      <td>73.0</td>\n",
       "      <td>6.53</td>\n",
       "      <td>71.0</td>\n",
       "      <td>39.8</td>\n",
       "      <td>57.348340</td>\n",
       "      <td>125525.0</td>\n",
       "      <td>1.2</td>\n",
       "      <td>1.3</td>\n",
       "      <td>0.427</td>\n",
       "      <td>10.0</td>\n",
       "    </tr>\n",
       "    <tr>\n",
       "      <th>2936</th>\n",
       "      <td>Zimbabwe</td>\n",
       "      <td>2001</td>\n",
       "      <td>Developing</td>\n",
       "      <td>45.3</td>\n",
       "      <td>686.0</td>\n",
       "      <td>25</td>\n",
       "      <td>1.72</td>\n",
       "      <td>0.000000</td>\n",
       "      <td>76.0</td>\n",
       "      <td>529</td>\n",
       "      <td>...</td>\n",
       "      <td>76.0</td>\n",
       "      <td>6.16</td>\n",
       "      <td>75.0</td>\n",
       "      <td>42.1</td>\n",
       "      <td>548.587312</td>\n",
       "      <td>12366165.0</td>\n",
       "      <td>1.6</td>\n",
       "      <td>1.7</td>\n",
       "      <td>0.427</td>\n",
       "      <td>9.8</td>\n",
       "    </tr>\n",
       "    <tr>\n",
       "      <th>2937</th>\n",
       "      <td>Zimbabwe</td>\n",
       "      <td>2000</td>\n",
       "      <td>Developing</td>\n",
       "      <td>46.0</td>\n",
       "      <td>665.0</td>\n",
       "      <td>24</td>\n",
       "      <td>1.68</td>\n",
       "      <td>0.000000</td>\n",
       "      <td>79.0</td>\n",
       "      <td>1483</td>\n",
       "      <td>...</td>\n",
       "      <td>78.0</td>\n",
       "      <td>7.10</td>\n",
       "      <td>78.0</td>\n",
       "      <td>43.5</td>\n",
       "      <td>547.358878</td>\n",
       "      <td>12222251.0</td>\n",
       "      <td>11.0</td>\n",
       "      <td>11.2</td>\n",
       "      <td>0.434</td>\n",
       "      <td>9.8</td>\n",
       "    </tr>\n",
       "  </tbody>\n",
       "</table>\n",
       "<p>2938 rows × 22 columns</p>\n",
       "</div>"
      ],
      "text/plain": [
       "          Country  Year      Status  Life_expectancy  Adult_Mortality   \n",
       "0     Afghanistan  2015  Developing             65.0            263.0  \\\n",
       "1     Afghanistan  2014  Developing             59.9            271.0   \n",
       "2     Afghanistan  2013  Developing             59.9            268.0   \n",
       "3     Afghanistan  2012  Developing             59.5            272.0   \n",
       "4     Afghanistan  2011  Developing             59.2            275.0   \n",
       "...           ...   ...         ...              ...              ...   \n",
       "2933     Zimbabwe  2004  Developing             44.3            723.0   \n",
       "2934     Zimbabwe  2003  Developing             44.5            715.0   \n",
       "2935     Zimbabwe  2002  Developing             44.8             73.0   \n",
       "2936     Zimbabwe  2001  Developing             45.3            686.0   \n",
       "2937     Zimbabwe  2000  Developing             46.0            665.0   \n",
       "\n",
       "      infant_deaths  Alcohol  percentage_expenditure  Hepatitis_B  Measles   \n",
       "0                62     0.01               71.279624         65.0     1154  \\\n",
       "1                64     0.01               73.523582         62.0      492   \n",
       "2                66     0.01               73.219243         64.0      430   \n",
       "3                69     0.01               78.184215         67.0     2787   \n",
       "4                71     0.01                7.097109         68.0     3013   \n",
       "...             ...      ...                     ...          ...      ...   \n",
       "2933             27     4.36                0.000000         68.0       31   \n",
       "2934             26     4.06                0.000000          7.0      998   \n",
       "2935             25     4.43                0.000000         73.0      304   \n",
       "2936             25     1.72                0.000000         76.0      529   \n",
       "2937             24     1.68                0.000000         79.0     1483   \n",
       "\n",
       "      ...  Polio  Total_expenditure  Diphtheria  HIV_AIDS         GDP   \n",
       "0     ...    6.0               8.16        65.0       0.1  584.259210  \\\n",
       "1     ...   58.0               8.18        62.0       0.1  612.696514   \n",
       "2     ...   62.0               8.13        64.0       0.1  631.744976   \n",
       "3     ...   67.0               8.52        67.0       0.1  669.959000   \n",
       "4     ...   68.0               7.87        68.0       0.1   63.537231   \n",
       "...   ...    ...                ...         ...       ...         ...   \n",
       "2933  ...   67.0               7.13        65.0      33.6  454.366654   \n",
       "2934  ...    7.0               6.52        68.0      36.7  453.351155   \n",
       "2935  ...   73.0               6.53        71.0      39.8   57.348340   \n",
       "2936  ...   76.0               6.16        75.0      42.1  548.587312   \n",
       "2937  ...   78.0               7.10        78.0      43.5  547.358878   \n",
       "\n",
       "      Population  thinness__1_19_years  thinness_5_9_years   \n",
       "0     33736494.0                  17.2                17.3  \\\n",
       "1       327582.0                  17.5                17.5   \n",
       "2     31731688.0                  17.7                17.7   \n",
       "3      3696958.0                  17.9                18.0   \n",
       "4      2978599.0                  18.2                18.2   \n",
       "...          ...                   ...                 ...   \n",
       "2933  12777511.0                   9.4                 9.4   \n",
       "2934  12633897.0                   9.8                 9.9   \n",
       "2935    125525.0                   1.2                 1.3   \n",
       "2936  12366165.0                   1.6                 1.7   \n",
       "2937  12222251.0                  11.0                11.2   \n",
       "\n",
       "      Income_composition_of_resources  Schooling  \n",
       "0                               0.479       10.1  \n",
       "1                               0.476       10.0  \n",
       "2                               0.470        9.9  \n",
       "3                               0.463        9.8  \n",
       "4                               0.454        9.5  \n",
       "...                               ...        ...  \n",
       "2933                            0.407        9.2  \n",
       "2934                            0.418        9.5  \n",
       "2935                            0.427       10.0  \n",
       "2936                            0.427        9.8  \n",
       "2937                            0.434        9.8  \n",
       "\n",
       "[2938 rows x 22 columns]"
      ]
     },
     "execution_count": 17,
     "metadata": {},
     "output_type": "execute_result"
    }
   ],
   "source": [
    "df"
   ]
  },
  {
   "cell_type": "code",
   "execution_count": 18,
   "id": "4675bd3b",
   "metadata": {},
   "outputs": [
    {
     "name": "stdout",
     "output_type": "stream",
     "text": [
      "<class 'pandas.core.frame.DataFrame'>\n",
      "RangeIndex: 2938 entries, 0 to 2937\n",
      "Data columns (total 22 columns):\n",
      " #   Column                           Non-Null Count  Dtype  \n",
      "---  ------                           --------------  -----  \n",
      " 0   Country                          2938 non-null   object \n",
      " 1   Year                             2938 non-null   int64  \n",
      " 2   Status                           2938 non-null   object \n",
      " 3   Life_expectancy                  2928 non-null   float64\n",
      " 4   Adult_Mortality                  2928 non-null   float64\n",
      " 5   infant_deaths                    2938 non-null   int64  \n",
      " 6   Alcohol                          2744 non-null   float64\n",
      " 7   percentage_expenditure           2938 non-null   float64\n",
      " 8   Hepatitis_B                      2385 non-null   float64\n",
      " 9   Measles                          2938 non-null   int64  \n",
      " 10  BMI                              2904 non-null   float64\n",
      " 11  under_five_deaths                2938 non-null   int64  \n",
      " 12  Polio                            2919 non-null   float64\n",
      " 13  Total_expenditure                2712 non-null   float64\n",
      " 14  Diphtheria                       2919 non-null   float64\n",
      " 15  HIV_AIDS                         2938 non-null   float64\n",
      " 16  GDP                              2490 non-null   float64\n",
      " 17  Population                       2286 non-null   float64\n",
      " 18  thinness__1_19_years             2904 non-null   float64\n",
      " 19  thinness_5_9_years               2904 non-null   float64\n",
      " 20  Income_composition_of_resources  2771 non-null   float64\n",
      " 21  Schooling                        2775 non-null   float64\n",
      "dtypes: float64(16), int64(4), object(2)\n",
      "memory usage: 505.1+ KB\n"
     ]
    }
   ],
   "source": [
    "df.info()"
   ]
  },
  {
   "cell_type": "code",
   "execution_count": 19,
   "id": "751e0e86",
   "metadata": {},
   "outputs": [
    {
     "data": {
      "text/plain": [
       "Status\n",
       "Developing    2426\n",
       "Developed      512\n",
       "Name: count, dtype: int64"
      ]
     },
     "execution_count": 19,
     "metadata": {},
     "output_type": "execute_result"
    }
   ],
   "source": [
    "df['Status'].value_counts()"
   ]
  },
  {
   "cell_type": "code",
   "execution_count": 20,
   "id": "3899c9f6",
   "metadata": {},
   "outputs": [],
   "source": [
    "df['Status'].replace({'Developing':1,'Developed':2},inplace=True)"
   ]
  },
  {
   "cell_type": "code",
   "execution_count": 21,
   "id": "3300ca78",
   "metadata": {},
   "outputs": [
    {
     "data": {
      "text/plain": [
       "Life_expectancy\n",
       "73.0    45\n",
       "75.0    33\n",
       "78.0    31\n",
       "73.6    28\n",
       "73.9    25\n",
       "        ..\n",
       "43.1     1\n",
       "49.5     1\n",
       "49.0     1\n",
       "55.1     1\n",
       "45.4     1\n",
       "Name: count, Length: 362, dtype: int64"
      ]
     },
     "execution_count": 21,
     "metadata": {},
     "output_type": "execute_result"
    }
   ],
   "source": [
    "df['Life_expectancy'].value_counts()"
   ]
  },
  {
   "cell_type": "code",
   "execution_count": 24,
   "id": "b2f3afb1",
   "metadata": {},
   "outputs": [
    {
     "data": {
      "text/plain": [
       "array([65. , 59.9, 59.5, 59.2, 58.8, 58.6, 58.1, 57.5, 57.3, 57. , 56.7,\n",
       "       56.2, 55.3, 54.8, 77.8, 77.5, 77.2, 76.9, 76.6, 76.2, 76.1, 75.3,\n",
       "       75.9, 74.2, 73.5, 73. , 72.8, 73.3, 73.6, 72.6, 75.6, 75.4, 75.1,\n",
       "       74.9, 74.7, 74.4, 74.1, 73.8, 73.4, 72.9, 72.3, 71.7, 71.6, 71.4,\n",
       "       71.3, 52.4, 51.7, 51.1, 56. , 51. , 49.6, 49.1, 48.7, 48.2, 47.7,\n",
       "       47.4, 47.1, 46.8, 46.5, 45.7, 45.3, 76.4, 75.7, 75.2, 75. , 74.8,\n",
       "       74.6, 74. , 76.3, 76. , 75.5, 73.9, 73.2, 72.7, 72. , 82.8, 82.7,\n",
       "       82.5, 82.3, 82. , 81.9, 81.7, 81.3, 81.2, 81. , 86. , 83. , 79.9,\n",
       "       79.5, 81.5, 81.4, 81.1, 88. , 84. , 79.8, 79.4, 79.3, 78.8, 78.7,\n",
       "       78.6, 78.1, 72.5, 72.2, 71.9, 71.1, 78. , 69.2, 68.4, 67.8, 67.5,\n",
       "       66.6, 74.5, 73.1, 76.8, 76.7, 76.5, 75.8, 71.8, 71. , 77. , 69.9,\n",
       "       69.5, 69.1, 68.6, 68.2, 67.3, 66.8, 66.3, 65.8, 65.3, 73.7, 70. ,\n",
       "       69.8, 68.9, 68.1, 67.7, 67.2, 68. , 89. , 87. , 80. , 78.9, 78.3,\n",
       "       77.6, 69.4, 69.6, 69. , 68.7, 68.5, 68.3, 60. , 59.7, 59.3, 59.1,\n",
       "       58.7, 58.4, 57.6, 57.1, 56.8, 56.5, 56.1, 55.8, 55.6, 55.5, 55.4,\n",
       "       67.9, 67.4, 67. , 66.5, 64.2, 63.3, 62.5, 61.7, 62. , 69.3, 66.2,\n",
       "       65.7, 65.1, 64.5, 63.9, 62.6, 77.4, 63.4, 62.2, 61.1, 56.9, 48.1,\n",
       "       46.4, 46. , 46.7, 47.8, 77.7, 77.1, 74.3, 72.1, 59. , 54.3, 53.3,\n",
       "       51.6, 59.6, 58. , 57.4, 54.1, 53.4, 52.6, 51.9, 51.5, 51.3, 52.8,\n",
       "       52.3, 52. , 54. , 49.9, 49.4, 48. , 47.9, 72.4, 66.1, 65.6, 64.1,\n",
       "       62.9, 61.5, 63. , 58.5, 57.7, 56.4, 55.9, 54.2, 53.6, 52.1, 51.8,\n",
       "       51.4, 82.2, 81.8, 81.6, 85. , 79.7, 79.1, 52.5, 53. , 49.8, 49.2,\n",
       "       48.6, 47.6, 46.3, 45.9, 45.6, 53.1, 52.2, 51.2, 48.5, 48.4, 79.6,\n",
       "       78.4, 77.9, 77.3, 71.5, 63.5, 63.2, 61.8, 61.3, 61. , 66. , 59.8,\n",
       "       64.7, 63.7, 59.4, 58.2, 53.2, 52.7, 52.9,  nan, 79.2, 79. , 78.5,\n",
       "       78.2, 67.6, 65.4, 58.3, 57.9, 56.3, 55.7, 55. , 53.5, 62.7, 69.7,\n",
       "       71.2, 68.8, 54.4, 53.8, 64.4, 64. , 63.6, 62.1, 61.4, 64.8, 57.2,\n",
       "       82.4, 65.5, 64.6, 62.8, 62.3, 61.6, 56.6, 62.4, 61.9, 61.2, 58.9,\n",
       "       57.8, 54.7, 53.9, 65.9, 65.2, 63.1, 36.3, 82.1, 66.4, 66.9, 66.7,\n",
       "       83.7, 83.5, 83.3, 82.6, 64.9, 64.3, 67.1, 53.7, 46.2, 44.5, 44.8,\n",
       "       45.5, 49.3, 50. , 63.8, 45.1, 44.6, 44. , 43.5, 43.1, 49.5, 49. ,\n",
       "       55.1, 55.2, 54.5, 48.3, 49.7, 48.9, 44.3, 43.3, 42.3, 41.5, 41. ,\n",
       "       39. , 83.1, 82.9, 54.9, 83.4, 83.2, 54.6, 48.8, 46.6, 43.8, 45.4])"
      ]
     },
     "execution_count": 24,
     "metadata": {},
     "output_type": "execute_result"
    }
   ],
   "source": [
    "df['Life_expectancy'].unique()"
   ]
  },
  {
   "cell_type": "code",
   "execution_count": 25,
   "id": "69036ece",
   "metadata": {},
   "outputs": [],
   "source": [
    "df['Life_expectancy'].fillna(df['Life_expectancy'].mean(),inplace=True)"
   ]
  },
  {
   "cell_type": "code",
   "execution_count": 27,
   "id": "e98798f1",
   "metadata": {},
   "outputs": [
    {
     "name": "stdout",
     "output_type": "stream",
     "text": [
      "<class 'pandas.core.series.Series'>\n",
      "RangeIndex: 2938 entries, 0 to 2937\n",
      "Series name: Life_expectancy\n",
      "Non-Null Count  Dtype  \n",
      "--------------  -----  \n",
      "2938 non-null   float64\n",
      "dtypes: float64(1)\n",
      "memory usage: 23.1 KB\n"
     ]
    }
   ],
   "source": [
    "df['Life_expectancy'].info()"
   ]
  },
  {
   "cell_type": "code",
   "execution_count": 29,
   "id": "29791dd7",
   "metadata": {},
   "outputs": [
    {
     "data": {
      "text/plain": [
       "10"
      ]
     },
     "execution_count": 29,
     "metadata": {},
     "output_type": "execute_result"
    }
   ],
   "source": [
    "df['Adult_Mortality'].isna().sum()"
   ]
  },
  {
   "cell_type": "code",
   "execution_count": 30,
   "id": "533a2d98",
   "metadata": {},
   "outputs": [],
   "source": [
    "df['Adult_Mortality'].fillna(df['Adult_Mortality'].mean(),inplace=True)"
   ]
  },
  {
   "cell_type": "code",
   "execution_count": 31,
   "id": "36755ded",
   "metadata": {},
   "outputs": [
    {
     "name": "stdout",
     "output_type": "stream",
     "text": [
      "<class 'pandas.core.series.Series'>\n",
      "RangeIndex: 2938 entries, 0 to 2937\n",
      "Series name: Adult_Mortality\n",
      "Non-Null Count  Dtype  \n",
      "--------------  -----  \n",
      "2938 non-null   float64\n",
      "dtypes: float64(1)\n",
      "memory usage: 23.1 KB\n"
     ]
    }
   ],
   "source": [
    "df['Adult_Mortality'].info()"
   ]
  },
  {
   "cell_type": "code",
   "execution_count": 33,
   "id": "bc9a0258",
   "metadata": {},
   "outputs": [
    {
     "data": {
      "text/plain": [
       "<Axes: >"
      ]
     },
     "execution_count": 33,
     "metadata": {},
     "output_type": "execute_result"
    },
    {
     "data": {
      "image/png": "[encoded data removed]",
      "text/plain": [
       "<Figure size 640x480 with 1 Axes>"
      ]
     },
     "metadata": {},
     "output_type": "display_data"
    }
   ],
   "source": [
    "sns.boxplot(df['Adult_Mortality'])"
   ]
  },
  {
   "cell_type": "code",
   "execution_count": 34,
   "id": "1a5bd930",
   "metadata": {},
   "outputs": [
    {
     "data": {
      "text/plain": [
       "164.7964480874317"
      ]
     },
     "execution_count": 34,
     "metadata": {},
     "output_type": "execute_result"
    }
   ],
   "source": [
    "df['Adult_Mortality'].mean()"
   ]
  },
  {
   "cell_type": "markdown",
   "id": "72340603",
   "metadata": {},
   "source": []
  },
  {
   "cell_type": "code",
   "execution_count": 35,
   "id": "7a0d56b0",
   "metadata": {},
   "outputs": [
    {
     "data": {
      "text/plain": [
       "144.0"
      ]
     },
     "execution_count": 35,
     "metadata": {},
     "output_type": "execute_result"
    }
   ],
   "source": [
    "df['Adult_Mortality'].median()"
   ]
  },
  {
   "cell_type": "code",
   "execution_count": 36,
   "id": "5eb80e70",
   "metadata": {},
   "outputs": [
    {
     "name": "stdout",
     "output_type": "stream",
     "text": [
      "<class 'pandas.core.series.Series'>\n",
      "RangeIndex: 2938 entries, 0 to 2937\n",
      "Series name: infant_deaths\n",
      "Non-Null Count  Dtype\n",
      "--------------  -----\n",
      "2938 non-null   int64\n",
      "dtypes: int64(1)\n",
      "memory usage: 23.1 KB\n"
     ]
    }
   ],
   "source": [
    "df['infant_deaths'].info()"
   ]
  },
  {
   "cell_type": "code",
   "execution_count": 37,
   "id": "c6b383a4",
   "metadata": {},
   "outputs": [
    {
     "name": "stdout",
     "output_type": "stream",
     "text": [
      "<class 'pandas.core.series.Series'>\n",
      "RangeIndex: 2938 entries, 0 to 2937\n",
      "Series name: Alcohol\n",
      "Non-Null Count  Dtype  \n",
      "--------------  -----  \n",
      "2744 non-null   float64\n",
      "dtypes: float64(1)\n",
      "memory usage: 23.1 KB\n"
     ]
    }
   ],
   "source": [
    "df['Alcohol'].info()"
   ]
  },
  {
   "cell_type": "code",
   "execution_count": 38,
   "id": "d8256a8e",
   "metadata": {},
   "outputs": [
    {
     "data": {
      "text/plain": [
       "194"
      ]
     },
     "execution_count": 38,
     "metadata": {},
     "output_type": "execute_result"
    }
   ],
   "source": [
    "df['Alcohol'].isna().sum()"
   ]
  },
  {
   "cell_type": "code",
   "execution_count": 39,
   "id": "62e2e34e",
   "metadata": {},
   "outputs": [
    {
     "data": {
      "text/plain": [
       "4.602860787172012"
      ]
     },
     "execution_count": 39,
     "metadata": {},
     "output_type": "execute_result"
    }
   ],
   "source": [
    "df['Alcohol'].mean()"
   ]
  },
  {
   "cell_type": "code",
   "execution_count": 40,
   "id": "0480ce8f",
   "metadata": {},
   "outputs": [
    {
     "data": {
      "text/plain": [
       "3.755"
      ]
     },
     "execution_count": 40,
     "metadata": {},
     "output_type": "execute_result"
    }
   ],
   "source": [
    "df['Alcohol'].median()"
   ]
  },
  {
   "cell_type": "code",
   "execution_count": 42,
   "id": "961f775d",
   "metadata": {},
   "outputs": [],
   "source": [
    "df['Alcohol'].fillna(df['Alcohol'].mean(),inplace=True)"
   ]
  },
  {
   "cell_type": "code",
   "execution_count": 43,
   "id": "30075fbe",
   "metadata": {},
   "outputs": [
    {
     "name": "stdout",
     "output_type": "stream",
     "text": [
      "<class 'pandas.core.series.Series'>\n",
      "RangeIndex: 2938 entries, 0 to 2937\n",
      "Series name: percentage_expenditure\n",
      "Non-Null Count  Dtype  \n",
      "--------------  -----  \n",
      "2938 non-null   float64\n",
      "dtypes: float64(1)\n",
      "memory usage: 23.1 KB\n"
     ]
    }
   ],
   "source": [
    "df['percentage_expenditure'].info()"
   ]
  },
  {
   "cell_type": "code",
   "execution_count": 44,
   "id": "a1463e74",
   "metadata": {},
   "outputs": [
    {
     "name": "stdout",
     "output_type": "stream",
     "text": [
      "<class 'pandas.core.series.Series'>\n",
      "RangeIndex: 2938 entries, 0 to 2937\n",
      "Series name: Hepatitis_B\n",
      "Non-Null Count  Dtype  \n",
      "--------------  -----  \n",
      "2385 non-null   float64\n",
      "dtypes: float64(1)\n",
      "memory usage: 23.1 KB\n"
     ]
    }
   ],
   "source": [
    "df['Hepatitis_B'].info()"
   ]
  },
  {
   "cell_type": "code",
   "execution_count": 45,
   "id": "5737c379",
   "metadata": {},
   "outputs": [
    {
     "data": {
      "text/plain": [
       "553"
      ]
     },
     "execution_count": 45,
     "metadata": {},
     "output_type": "execute_result"
    }
   ],
   "source": [
    "df['Hepatitis_B'].isna().sum()"
   ]
  },
  {
   "cell_type": "code",
   "execution_count": 46,
   "id": "c294797f",
   "metadata": {},
   "outputs": [
    {
     "data": {
      "text/plain": [
       "Hepatitis_B\n",
       "99.0    240\n",
       "98.0    210\n",
       "96.0    167\n",
       "97.0    155\n",
       "95.0    149\n",
       "       ... \n",
       "15.0      1\n",
       "12.0      1\n",
       "32.0      1\n",
       "11.0      1\n",
       "19.0      1\n",
       "Name: count, Length: 87, dtype: int64"
      ]
     },
     "execution_count": 46,
     "metadata": {},
     "output_type": "execute_result"
    }
   ],
   "source": [
    "df['Hepatitis_B'].value_counts()"
   ]
  },
  {
   "cell_type": "code",
   "execution_count": 47,
   "id": "49f4ee48",
   "metadata": {},
   "outputs": [
    {
     "data": {
      "text/plain": [
       "80.94046121593291"
      ]
     },
     "execution_count": 47,
     "metadata": {},
     "output_type": "execute_result"
    }
   ],
   "source": [
    "df['Hepatitis_B'].mean()"
   ]
  },
  {
   "cell_type": "code",
   "execution_count": 48,
   "id": "d2f48ae5",
   "metadata": {},
   "outputs": [
    {
     "data": {
      "text/plain": [
       "92.0"
      ]
     },
     "execution_count": 48,
     "metadata": {},
     "output_type": "execute_result"
    }
   ],
   "source": [
    "df['Hepatitis_B'].median()"
   ]
  },
  {
   "cell_type": "code",
   "execution_count": 49,
   "id": "b054dbb9",
   "metadata": {},
   "outputs": [],
   "source": [
    "df['Hepatitis_B'].fillna(df['Hepatitis_B'].median(),inplace=True)"
   ]
  },
  {
   "cell_type": "code",
   "execution_count": 50,
   "id": "8e68dcf1",
   "metadata": {},
   "outputs": [
    {
     "name": "stdout",
     "output_type": "stream",
     "text": [
      "<class 'pandas.core.series.Series'>\n",
      "RangeIndex: 2938 entries, 0 to 2937\n",
      "Series name: Hepatitis_B\n",
      "Non-Null Count  Dtype  \n",
      "--------------  -----  \n",
      "2938 non-null   float64\n",
      "dtypes: float64(1)\n",
      "memory usage: 23.1 KB\n"
     ]
    }
   ],
   "source": [
    "df['Hepatitis_B'].info()"
   ]
  },
  {
   "cell_type": "code",
   "execution_count": 51,
   "id": "6a319876",
   "metadata": {},
   "outputs": [
    {
     "name": "stdout",
     "output_type": "stream",
     "text": [
      "<class 'pandas.core.series.Series'>\n",
      "RangeIndex: 2938 entries, 0 to 2937\n",
      "Series name: Measles\n",
      "Non-Null Count  Dtype\n",
      "--------------  -----\n",
      "2938 non-null   int64\n",
      "dtypes: int64(1)\n",
      "memory usage: 23.1 KB\n"
     ]
    }
   ],
   "source": [
    "df['Measles'].info()"
   ]
  },
  {
   "cell_type": "code",
   "execution_count": 52,
   "id": "0c6f010c",
   "metadata": {},
   "outputs": [
    {
     "name": "stdout",
     "output_type": "stream",
     "text": [
      "<class 'pandas.core.series.Series'>\n",
      "RangeIndex: 2938 entries, 0 to 2937\n",
      "Series name: BMI\n",
      "Non-Null Count  Dtype  \n",
      "--------------  -----  \n",
      "2904 non-null   float64\n",
      "dtypes: float64(1)\n",
      "memory usage: 23.1 KB\n"
     ]
    }
   ],
   "source": [
    "df['BMI'].info()"
   ]
  },
  {
   "cell_type": "code",
   "execution_count": 53,
   "id": "e6ab32c4",
   "metadata": {},
   "outputs": [
    {
     "data": {
      "text/plain": [
       "34"
      ]
     },
     "execution_count": 53,
     "metadata": {},
     "output_type": "execute_result"
    }
   ],
   "source": [
    "df['BMI'].isna().sum()"
   ]
  },
  {
   "cell_type": "code",
   "execution_count": 54,
   "id": "362b0c7c",
   "metadata": {},
   "outputs": [
    {
     "data": {
      "text/plain": [
       "38.321246556473824"
      ]
     },
     "execution_count": 54,
     "metadata": {},
     "output_type": "execute_result"
    }
   ],
   "source": [
    "df['BMI'].mean()"
   ]
  },
  {
   "cell_type": "code",
   "execution_count": 55,
   "id": "e20c11f8",
   "metadata": {},
   "outputs": [
    {
     "data": {
      "text/plain": [
       "43.5"
      ]
     },
     "execution_count": 55,
     "metadata": {},
     "output_type": "execute_result"
    }
   ],
   "source": [
    "df['BMI'].median()"
   ]
  },
  {
   "cell_type": "code",
   "execution_count": 56,
   "id": "f390a9be",
   "metadata": {},
   "outputs": [
    {
     "data": {
      "text/plain": [
       "BMI\n",
       "58.5    18\n",
       "55.8    16\n",
       "57.0    16\n",
       "54.2    15\n",
       "59.9    15\n",
       "        ..\n",
       "7.6      1\n",
       "72.8     1\n",
       "74.1     1\n",
       "74.6     1\n",
       "33.9     1\n",
       "Name: count, Length: 608, dtype: int64"
      ]
     },
     "execution_count": 56,
     "metadata": {},
     "output_type": "execute_result"
    }
   ],
   "source": [
    "df['BMI'].value_counts()"
   ]
  },
  {
   "cell_type": "code",
   "execution_count": 57,
   "id": "ede9c419",
   "metadata": {},
   "outputs": [
    {
     "data": {
      "text/plain": [
       "<Axes: >"
      ]
     },
     "execution_count": 57,
     "metadata": {},
     "output_type": "execute_result"
    },
    {
     "data": {
      "image/png": "[encoded data removed]",
      "text/plain": [
       "<Figure size 640x480 with 1 Axes>"
      ]
     },
     "metadata": {},
     "output_type": "display_data"
    }
   ],
   "source": [
    "sns.boxplot(df['BMI'])"
   ]
  },
  {
   "cell_type": "code",
   "execution_count": 58,
   "id": "5f93f76b",
   "metadata": {},
   "outputs": [],
   "source": [
    "df['BMI'].fillna(df['BMI'].median(),inplace=True)"
   ]
  },
  {
   "cell_type": "code",
   "execution_count": 59,
   "id": "c66d09ef",
   "metadata": {},
   "outputs": [
    {
     "name": "stdout",
     "output_type": "stream",
     "text": [
      "<class 'pandas.core.series.Series'>\n",
      "RangeIndex: 2938 entries, 0 to 2937\n",
      "Series name: under_five_deaths\n",
      "Non-Null Count  Dtype\n",
      "--------------  -----\n",
      "2938 non-null   int64\n",
      "dtypes: int64(1)\n",
      "memory usage: 23.1 KB\n"
     ]
    }
   ],
   "source": [
    "df['under_five_deaths'].info()"
   ]
  },
  {
   "cell_type": "code",
   "execution_count": 60,
   "id": "dedcc285",
   "metadata": {},
   "outputs": [
    {
     "name": "stdout",
     "output_type": "stream",
     "text": [
      "<class 'pandas.core.series.Series'>\n",
      "RangeIndex: 2938 entries, 0 to 2937\n",
      "Series name: Polio\n",
      "Non-Null Count  Dtype  \n",
      "--------------  -----  \n",
      "2919 non-null   float64\n",
      "dtypes: float64(1)\n",
      "memory usage: 23.1 KB\n"
     ]
    }
   ],
   "source": [
    "df['Polio'].info()"
   ]
  },
  {
   "cell_type": "code",
   "execution_count": 61,
   "id": "66179c70",
   "metadata": {},
   "outputs": [
    {
     "data": {
      "text/plain": [
       "19"
      ]
     },
     "execution_count": 61,
     "metadata": {},
     "output_type": "execute_result"
    }
   ],
   "source": [
    "df['Polio'].isna().sum()"
   ]
  },
  {
   "cell_type": "code",
   "execution_count": 62,
   "id": "056b2635",
   "metadata": {},
   "outputs": [
    {
     "data": {
      "text/plain": [
       "82.55018842069202"
      ]
     },
     "execution_count": 62,
     "metadata": {},
     "output_type": "execute_result"
    }
   ],
   "source": [
    "df['Polio'].mean()"
   ]
  },
  {
   "cell_type": "code",
   "execution_count": 63,
   "id": "bb0f3051",
   "metadata": {},
   "outputs": [
    {
     "data": {
      "text/plain": [
       "93.0"
      ]
     },
     "execution_count": 63,
     "metadata": {},
     "output_type": "execute_result"
    }
   ],
   "source": [
    "df['Polio'].median()"
   ]
  },
  {
   "cell_type": "code",
   "execution_count": 64,
   "id": "5cafa4a0",
   "metadata": {},
   "outputs": [
    {
     "data": {
      "text/plain": [
       "<Axes: >"
      ]
     },
     "execution_count": 64,
     "metadata": {},
     "output_type": "execute_result"
    },
    {
     "data": {
      "image/png": "[encoded data removed]",
      "text/plain": [
       "<Figure size 640x480 with 1 Axes>"
      ]
     },
     "metadata": {},
     "output_type": "display_data"
    }
   ],
   "source": [
    "sns.boxplot(df['Polio'])"
   ]
  },
  {
   "cell_type": "code",
   "execution_count": 65,
   "id": "3f66bf71",
   "metadata": {},
   "outputs": [],
   "source": [
    "df['Polio'].fillna(df['Polio'].median(),inplace=True)"
   ]
  },
  {
   "cell_type": "code",
   "execution_count": 66,
   "id": "7f93db37",
   "metadata": {},
   "outputs": [
    {
     "name": "stdout",
     "output_type": "stream",
     "text": [
      "<class 'pandas.core.series.Series'>\n",
      "RangeIndex: 2938 entries, 0 to 2937\n",
      "Series name: Total_expenditure\n",
      "Non-Null Count  Dtype  \n",
      "--------------  -----  \n",
      "2712 non-null   float64\n",
      "dtypes: float64(1)\n",
      "memory usage: 23.1 KB\n"
     ]
    }
   ],
   "source": [
    "df['Total_expenditure'].info()"
   ]
  },
  {
   "cell_type": "code",
   "execution_count": 67,
   "id": "186120ec",
   "metadata": {},
   "outputs": [
    {
     "data": {
      "text/plain": [
       "226"
      ]
     },
     "execution_count": 67,
     "metadata": {},
     "output_type": "execute_result"
    }
   ],
   "source": [
    "df['Total_expenditure'].isna().sum()"
   ]
  },
  {
   "cell_type": "code",
   "execution_count": 68,
   "id": "e530e02e",
   "metadata": {},
   "outputs": [
    {
     "data": {
      "text/plain": [
       "5.9381895280235995"
      ]
     },
     "execution_count": 68,
     "metadata": {},
     "output_type": "execute_result"
    }
   ],
   "source": [
    "df['Total_expenditure'].mean()"
   ]
  },
  {
   "cell_type": "code",
   "execution_count": 69,
   "id": "d34d7b36",
   "metadata": {},
   "outputs": [
    {
     "data": {
      "text/plain": [
       "5.755"
      ]
     },
     "execution_count": 69,
     "metadata": {},
     "output_type": "execute_result"
    }
   ],
   "source": [
    "df['Total_expenditure'].median()"
   ]
  },
  {
   "cell_type": "code",
   "execution_count": 70,
   "id": "26344e9d",
   "metadata": {},
   "outputs": [],
   "source": [
    "df['Total_expenditure'].fillna(df['Total_expenditure'].mean(),inplace=True)"
   ]
  },
  {
   "cell_type": "code",
   "execution_count": 71,
   "id": "a8a7f120",
   "metadata": {},
   "outputs": [
    {
     "name": "stdout",
     "output_type": "stream",
     "text": [
      "<class 'pandas.core.series.Series'>\n",
      "RangeIndex: 2938 entries, 0 to 2937\n",
      "Series name: Diphtheria\n",
      "Non-Null Count  Dtype  \n",
      "--------------  -----  \n",
      "2919 non-null   float64\n",
      "dtypes: float64(1)\n",
      "memory usage: 23.1 KB\n"
     ]
    }
   ],
   "source": [
    "df['Diphtheria'].info()"
   ]
  },
  {
   "cell_type": "code",
   "execution_count": 72,
   "id": "4424a278",
   "metadata": {},
   "outputs": [
    {
     "data": {
      "text/plain": [
       "19"
      ]
     },
     "execution_count": 72,
     "metadata": {},
     "output_type": "execute_result"
    }
   ],
   "source": [
    "df['Diphtheria'].isna().sum()"
   ]
  },
  {
   "cell_type": "code",
   "execution_count": 73,
   "id": "aec334cc",
   "metadata": {},
   "outputs": [
    {
     "data": {
      "text/plain": [
       "82.32408359027065"
      ]
     },
     "execution_count": 73,
     "metadata": {},
     "output_type": "execute_result"
    }
   ],
   "source": [
    "df['Diphtheria'].mean()"
   ]
  },
  {
   "cell_type": "code",
   "execution_count": 74,
   "id": "5b9eb306",
   "metadata": {},
   "outputs": [
    {
     "data": {
      "text/plain": [
       "93.0"
      ]
     },
     "execution_count": 74,
     "metadata": {},
     "output_type": "execute_result"
    }
   ],
   "source": [
    "df['Diphtheria'].median()"
   ]
  },
  {
   "cell_type": "code",
   "execution_count": 75,
   "id": "75809236",
   "metadata": {},
   "outputs": [
    {
     "data": {
      "text/plain": [
       "<Axes: >"
      ]
     },
     "execution_count": 75,
     "metadata": {},
     "output_type": "execute_result"
    },
    {
     "data": {
      "image/png": "[encoded data removed]",
      "text/plain": [
       "<Figure size 640x480 with 1 Axes>"
      ]
     },
     "metadata": {},
     "output_type": "display_data"
    }
   ],
   "source": [
    "sns.boxplot(df['Diphtheria'])"
   ]
  },
  {
   "cell_type": "code",
   "execution_count": 76,
   "id": "17fbf174",
   "metadata": {},
   "outputs": [
    {
     "data": {
      "text/plain": [
       "Diphtheria\n",
       "99.0    350\n",
       "98.0    254\n",
       "97.0    205\n",
       "96.0    201\n",
       "95.0    200\n",
       "       ... \n",
       "16.0      1\n",
       "56.0      1\n",
       "21.0      1\n",
       "19.0      1\n",
       "27.0      1\n",
       "Name: count, Length: 81, dtype: int64"
      ]
     },
     "execution_count": 76,
     "metadata": {},
     "output_type": "execute_result"
    }
   ],
   "source": [
    "df['Diphtheria'].value_counts()"
   ]
  },
  {
   "cell_type": "code",
   "execution_count": 77,
   "id": "8c397b2c",
   "metadata": {},
   "outputs": [],
   "source": [
    "df['Diphtheria'].fillna(df['Diphtheria'].median(),inplace=True)"
   ]
  },
  {
   "cell_type": "code",
   "execution_count": 78,
   "id": "385f9d03",
   "metadata": {},
   "outputs": [
    {
     "name": "stdout",
     "output_type": "stream",
     "text": [
      "<class 'pandas.core.series.Series'>\n",
      "RangeIndex: 2938 entries, 0 to 2937\n",
      "Series name: HIV_AIDS\n",
      "Non-Null Count  Dtype  \n",
      "--------------  -----  \n",
      "2938 non-null   float64\n",
      "dtypes: float64(1)\n",
      "memory usage: 23.1 KB\n"
     ]
    }
   ],
   "source": [
    "df['HIV_AIDS'].info()"
   ]
  },
  {
   "cell_type": "code",
   "execution_count": 79,
   "id": "e0b240d3",
   "metadata": {},
   "outputs": [
    {
     "name": "stdout",
     "output_type": "stream",
     "text": [
      "<class 'pandas.core.series.Series'>\n",
      "RangeIndex: 2938 entries, 0 to 2937\n",
      "Series name: GDP\n",
      "Non-Null Count  Dtype  \n",
      "--------------  -----  \n",
      "2490 non-null   float64\n",
      "dtypes: float64(1)\n",
      "memory usage: 23.1 KB\n"
     ]
    }
   ],
   "source": [
    "df['GDP'].info()"
   ]
  },
  {
   "cell_type": "code",
   "execution_count": 80,
   "id": "25faaae9",
   "metadata": {},
   "outputs": [
    {
     "data": {
      "text/plain": [
       "448"
      ]
     },
     "execution_count": 80,
     "metadata": {},
     "output_type": "execute_result"
    }
   ],
   "source": [
    "df['GDP'].isna().sum()"
   ]
  },
  {
   "cell_type": "code",
   "execution_count": 81,
   "id": "9b04e643",
   "metadata": {},
   "outputs": [
    {
     "data": {
      "text/plain": [
       "7483.158469138474"
      ]
     },
     "execution_count": 81,
     "metadata": {},
     "output_type": "execute_result"
    }
   ],
   "source": [
    "df['GDP'].mean()"
   ]
  },
  {
   "cell_type": "code",
   "execution_count": 82,
   "id": "feae7736",
   "metadata": {},
   "outputs": [
    {
     "data": {
      "text/plain": [
       "1766.947595"
      ]
     },
     "execution_count": 82,
     "metadata": {},
     "output_type": "execute_result"
    }
   ],
   "source": [
    "df['GDP'].median()"
   ]
  },
  {
   "cell_type": "code",
   "execution_count": 83,
   "id": "f0f11d95",
   "metadata": {},
   "outputs": [
    {
     "data": {
      "text/plain": [
       "GDP\n",
       "584.259210     1\n",
       "354.818600     1\n",
       "358.997310     1\n",
       "43.646498      1\n",
       "416.148380     1\n",
       "              ..\n",
       "4274.376857    1\n",
       "4142.869175    1\n",
       "3725.632210    1\n",
       "2964.477340    1\n",
       "547.358878     1\n",
       "Name: count, Length: 2490, dtype: int64"
      ]
     },
     "execution_count": 83,
     "metadata": {},
     "output_type": "execute_result"
    }
   ],
   "source": [
    "df['GDP'].value_counts()"
   ]
  },
  {
   "cell_type": "code",
   "execution_count": 84,
   "id": "3cf71ff3",
   "metadata": {},
   "outputs": [
    {
     "data": {
      "text/plain": [
       "<Axes: >"
      ]
     },
     "execution_count": 84,
     "metadata": {},
     "output_type": "execute_result"
    },
    {
     "data": {
      "image/png": "[encoded data removed]",
      "text/plain": [
       "<Figure size 640x480 with 1 Axes>"
      ]
     },
     "metadata": {},
     "output_type": "display_data"
    }
   ],
   "source": [
    "sns.boxplot(df['GDP'])"
   ]
  },
  {
   "cell_type": "code",
   "execution_count": 85,
   "id": "daeb4ebb",
   "metadata": {},
   "outputs": [],
   "source": [
    "df['GDP'].fillna(df['GDP'].median(),inplace=True)"
   ]
  },
  {
   "cell_type": "code",
   "execution_count": 86,
   "id": "e2e95127",
   "metadata": {},
   "outputs": [
    {
     "name": "stdout",
     "output_type": "stream",
     "text": [
      "<class 'pandas.core.series.Series'>\n",
      "RangeIndex: 2938 entries, 0 to 2937\n",
      "Series name: Population\n",
      "Non-Null Count  Dtype  \n",
      "--------------  -----  \n",
      "2286 non-null   float64\n",
      "dtypes: float64(1)\n",
      "memory usage: 23.1 KB\n"
     ]
    }
   ],
   "source": [
    "df['Population'].info()"
   ]
  },
  {
   "cell_type": "code",
   "execution_count": 87,
   "id": "18e1df05",
   "metadata": {},
   "outputs": [
    {
     "data": {
      "text/plain": [
       "652"
      ]
     },
     "execution_count": 87,
     "metadata": {},
     "output_type": "execute_result"
    }
   ],
   "source": [
    "df['Population'].isna().sum()"
   ]
  },
  {
   "cell_type": "code",
   "execution_count": 88,
   "id": "7d4be6f0",
   "metadata": {},
   "outputs": [
    {
     "data": {
      "text/plain": [
       "12753375.120052494"
      ]
     },
     "execution_count": 88,
     "metadata": {},
     "output_type": "execute_result"
    }
   ],
   "source": [
    "df['Population'].mean()"
   ]
  },
  {
   "cell_type": "code",
   "execution_count": 89,
   "id": "059df76b",
   "metadata": {},
   "outputs": [
    {
     "data": {
      "text/plain": [
       "1386542.0"
      ]
     },
     "execution_count": 89,
     "metadata": {},
     "output_type": "execute_result"
    }
   ],
   "source": [
    "df['Population'].median()"
   ]
  },
  {
   "cell_type": "code",
   "execution_count": 90,
   "id": "404af539",
   "metadata": {},
   "outputs": [],
   "source": [
    "df['Population'].fillna(df['Population'].median(),inplace=True)"
   ]
  },
  {
   "cell_type": "code",
   "execution_count": 91,
   "id": "ffde5afe",
   "metadata": {},
   "outputs": [
    {
     "name": "stdout",
     "output_type": "stream",
     "text": [
      "<class 'pandas.core.series.Series'>\n",
      "RangeIndex: 2938 entries, 0 to 2937\n",
      "Series name: thinness__1_19_years\n",
      "Non-Null Count  Dtype  \n",
      "--------------  -----  \n",
      "2904 non-null   float64\n",
      "dtypes: float64(1)\n",
      "memory usage: 23.1 KB\n"
     ]
    }
   ],
   "source": [
    "df['thinness__1_19_years'].info()"
   ]
  },
  {
   "cell_type": "code",
   "execution_count": 92,
   "id": "6332245d",
   "metadata": {},
   "outputs": [
    {
     "data": {
      "text/plain": [
       "34"
      ]
     },
     "execution_count": 92,
     "metadata": {},
     "output_type": "execute_result"
    }
   ],
   "source": [
    "df['thinness__1_19_years'].isna().sum()"
   ]
  },
  {
   "cell_type": "code",
   "execution_count": 93,
   "id": "7230f981",
   "metadata": {},
   "outputs": [
    {
     "data": {
      "text/plain": [
       "4.839703856749312"
      ]
     },
     "execution_count": 93,
     "metadata": {},
     "output_type": "execute_result"
    }
   ],
   "source": [
    "df['thinness__1_19_years'].mean()"
   ]
  },
  {
   "cell_type": "code",
   "execution_count": 94,
   "id": "385f957c",
   "metadata": {},
   "outputs": [
    {
     "data": {
      "text/plain": [
       "3.3"
      ]
     },
     "execution_count": 94,
     "metadata": {},
     "output_type": "execute_result"
    }
   ],
   "source": [
    "df['thinness__1_19_years'].median()"
   ]
  },
  {
   "cell_type": "code",
   "execution_count": 95,
   "id": "0f6126cc",
   "metadata": {},
   "outputs": [],
   "source": [
    "df['thinness__1_19_years'].fillna(df['thinness__1_19_years'].median(),inplace=True)"
   ]
  },
  {
   "cell_type": "code",
   "execution_count": 96,
   "id": "ec9493db",
   "metadata": {},
   "outputs": [
    {
     "name": "stdout",
     "output_type": "stream",
     "text": [
      "<class 'pandas.core.series.Series'>\n",
      "RangeIndex: 2938 entries, 0 to 2937\n",
      "Series name: thinness_5_9_years\n",
      "Non-Null Count  Dtype  \n",
      "--------------  -----  \n",
      "2904 non-null   float64\n",
      "dtypes: float64(1)\n",
      "memory usage: 23.1 KB\n"
     ]
    }
   ],
   "source": [
    "df['thinness_5_9_years'].info()"
   ]
  },
  {
   "cell_type": "code",
   "execution_count": 97,
   "id": "062d0bb1",
   "metadata": {},
   "outputs": [
    {
     "data": {
      "text/plain": [
       "34"
      ]
     },
     "execution_count": 97,
     "metadata": {},
     "output_type": "execute_result"
    }
   ],
   "source": [
    "df['thinness_5_9_years'].isna().sum()"
   ]
  },
  {
   "cell_type": "code",
   "execution_count": 98,
   "id": "7de2e803",
   "metadata": {},
   "outputs": [
    {
     "data": {
      "text/plain": [
       "4.870316804407714"
      ]
     },
     "execution_count": 98,
     "metadata": {},
     "output_type": "execute_result"
    }
   ],
   "source": [
    "df['thinness_5_9_years'].mean()"
   ]
  },
  {
   "cell_type": "code",
   "execution_count": 99,
   "id": "4dd80e12",
   "metadata": {},
   "outputs": [
    {
     "data": {
      "text/plain": [
       "3.3"
      ]
     },
     "execution_count": 99,
     "metadata": {},
     "output_type": "execute_result"
    }
   ],
   "source": [
    "df['thinness_5_9_years'].median()"
   ]
  },
  {
   "cell_type": "code",
   "execution_count": 100,
   "id": "2abd6978",
   "metadata": {},
   "outputs": [
    {
     "data": {
      "text/plain": [
       "<Axes: >"
      ]
     },
     "execution_count": 100,
     "metadata": {},
     "output_type": "execute_result"
    },
    {
     "data": {
      "image/png": "[encoded data removed]",
      "text/plain": [
       "<Figure size 640x480 with 1 Axes>"
      ]
     },
     "metadata": {},
     "output_type": "display_data"
    }
   ],
   "source": [
    "sns.boxplot(df['thinness_5_9_years'])"
   ]
  },
  {
   "cell_type": "code",
   "execution_count": 101,
   "id": "c3f7152f",
   "metadata": {},
   "outputs": [],
   "source": [
    "df['thinness_5_9_years'].fillna(df['thinness_5_9_years'].median(),inplace=True)"
   ]
  },
  {
   "cell_type": "code",
   "execution_count": 102,
   "id": "f5e830ac",
   "metadata": {},
   "outputs": [
    {
     "name": "stdout",
     "output_type": "stream",
     "text": [
      "<class 'pandas.core.series.Series'>\n",
      "RangeIndex: 2938 entries, 0 to 2937\n",
      "Series name: Income_composition_of_resources\n",
      "Non-Null Count  Dtype  \n",
      "--------------  -----  \n",
      "2771 non-null   float64\n",
      "dtypes: float64(1)\n",
      "memory usage: 23.1 KB\n"
     ]
    }
   ],
   "source": [
    "df['Income_composition_of_resources'].info()"
   ]
  },
  {
   "cell_type": "code",
   "execution_count": 103,
   "id": "f1cbf4de",
   "metadata": {},
   "outputs": [
    {
     "data": {
      "text/plain": [
       "167"
      ]
     },
     "execution_count": 103,
     "metadata": {},
     "output_type": "execute_result"
    }
   ],
   "source": [
    "df['Income_composition_of_resources'].isna().sum()"
   ]
  },
  {
   "cell_type": "code",
   "execution_count": 104,
   "id": "51bf4b3e",
   "metadata": {},
   "outputs": [
    {
     "data": {
      "text/plain": [
       "0.6275510645976182"
      ]
     },
     "execution_count": 104,
     "metadata": {},
     "output_type": "execute_result"
    }
   ],
   "source": [
    "df['Income_composition_of_resources'].mean()"
   ]
  },
  {
   "cell_type": "code",
   "execution_count": 105,
   "id": "a1058736",
   "metadata": {},
   "outputs": [
    {
     "data": {
      "text/plain": [
       "0.677"
      ]
     },
     "execution_count": 105,
     "metadata": {},
     "output_type": "execute_result"
    }
   ],
   "source": [
    "df['Income_composition_of_resources'].median()"
   ]
  },
  {
   "cell_type": "code",
   "execution_count": 106,
   "id": "b42278bd",
   "metadata": {},
   "outputs": [],
   "source": [
    "df['Income_composition_of_resources'].fillna(df['Income_composition_of_resources'].mean(),inplace=True)"
   ]
  },
  {
   "cell_type": "code",
   "execution_count": 107,
   "id": "51915b6e",
   "metadata": {},
   "outputs": [
    {
     "name": "stdout",
     "output_type": "stream",
     "text": [
      "<class 'pandas.core.series.Series'>\n",
      "RangeIndex: 2938 entries, 0 to 2937\n",
      "Series name: Schooling\n",
      "Non-Null Count  Dtype  \n",
      "--------------  -----  \n",
      "2775 non-null   float64\n",
      "dtypes: float64(1)\n",
      "memory usage: 23.1 KB\n"
     ]
    }
   ],
   "source": [
    "df['Schooling'].info()"
   ]
  },
  {
   "cell_type": "code",
   "execution_count": 108,
   "id": "0d945ddf",
   "metadata": {},
   "outputs": [
    {
     "data": {
      "text/plain": [
       "163"
      ]
     },
     "execution_count": 108,
     "metadata": {},
     "output_type": "execute_result"
    }
   ],
   "source": [
    "df['Schooling'].isna().sum()"
   ]
  },
  {
   "cell_type": "code",
   "execution_count": 109,
   "id": "df9a8d50",
   "metadata": {},
   "outputs": [
    {
     "data": {
      "text/plain": [
       "11.992792792792793"
      ]
     },
     "execution_count": 109,
     "metadata": {},
     "output_type": "execute_result"
    }
   ],
   "source": [
    "df['Schooling'].mean()"
   ]
  },
  {
   "cell_type": "code",
   "execution_count": 110,
   "id": "a3e621a9",
   "metadata": {},
   "outputs": [
    {
     "data": {
      "text/plain": [
       "12.3"
      ]
     },
     "execution_count": 110,
     "metadata": {},
     "output_type": "execute_result"
    }
   ],
   "source": [
    "df['Schooling'].median()"
   ]
  },
  {
   "cell_type": "code",
   "execution_count": 111,
   "id": "72dd8b3e",
   "metadata": {},
   "outputs": [],
   "source": [
    "df['Schooling'].fillna(df['Schooling'].mean(),inplace=True)"
   ]
  },
  {
   "cell_type": "code",
   "execution_count": 114,
   "id": "106be6bb",
   "metadata": {},
   "outputs": [],
   "source": [
    "df=df.drop(['Country'],axis=1)"
   ]
  },
  {
   "cell_type": "code",
   "execution_count": 115,
   "id": "038c904b",
   "metadata": {},
   "outputs": [
    {
     "name": "stdout",
     "output_type": "stream",
     "text": [
      "<class 'pandas.core.frame.DataFrame'>\n",
      "RangeIndex: 2938 entries, 0 to 2937\n",
      "Data columns (total 21 columns):\n",
      " #   Column                           Non-Null Count  Dtype  \n",
      "---  ------                           --------------  -----  \n",
      " 0   Year                             2938 non-null   int64  \n",
      " 1   Status                           2938 non-null   int64  \n",
      " 2   Life_expectancy                  2938 non-null   float64\n",
      " 3   Adult_Mortality                  2938 non-null   float64\n",
      " 4   infant_deaths                    2938 non-null   int64  \n",
      " 5   Alcohol                          2938 non-null   float64\n",
      " 6   percentage_expenditure           2938 non-null   float64\n",
      " 7   Hepatitis_B                      2938 non-null   float64\n",
      " 8   Measles                          2938 non-null   int64  \n",
      " 9   BMI                              2938 non-null   float64\n",
      " 10  under_five_deaths                2938 non-null   int64  \n",
      " 11  Polio                            2938 non-null   float64\n",
      " 12  Total_expenditure                2938 non-null   float64\n",
      " 13  Diphtheria                       2938 non-null   float64\n",
      " 14  HIV_AIDS                         2938 non-null   float64\n",
      " 15  GDP                              2938 non-null   float64\n",
      " 16  Population                       2938 non-null   float64\n",
      " 17  thinness__1_19_years             2938 non-null   float64\n",
      " 18  thinness_5_9_years               2938 non-null   float64\n",
      " 19  Income_composition_of_resources  2938 non-null   float64\n",
      " 20  Schooling                        2938 non-null   float64\n",
      "dtypes: float64(16), int64(5)\n",
      "memory usage: 482.1 KB\n"
     ]
    }
   ],
   "source": [
    "df.info()"
   ]
  },
  {
   "cell_type": "markdown",
   "id": "77a80eaf",
   "metadata": {},
   "source": [
    "##### 4. Feature Selection"
   ]
  },
  {
   "cell_type": "markdown",
   "id": "94ff4124",
   "metadata": {},
   "source": [
    "###### 4.1 Linearity"
   ]
  },
  {
   "cell_type": "code",
   "execution_count": 117,
   "id": "3e6b7359",
   "metadata": {},
   "outputs": [
    {
     "data": {
      "text/html": [
       "<div>\n",
       "<style scoped>\n",
       "    .dataframe tbody tr th:only-of-type {\n",
       "        vertical-align: middle;\n",
       "    }\n",
       "\n",
       "    .dataframe tbody tr th {\n",
       "        vertical-align: top;\n",
       "    }\n",
       "\n",
       "    .dataframe thead th {\n",
       "        text-align: right;\n",
       "    }\n",
       "</style>\n",
       "<table border=\"1\" class=\"dataframe\">\n",
       "  <thead>\n",
       "    <tr style=\"text-align: right;\">\n",
       "      <th></th>\n",
       "      <th>Year</th>\n",
       "      <th>Status</th>\n",
       "      <th>Life_expectancy</th>\n",
       "      <th>Adult_Mortality</th>\n",
       "      <th>infant_deaths</th>\n",
       "      <th>Alcohol</th>\n",
       "      <th>percentage_expenditure</th>\n",
       "      <th>Hepatitis_B</th>\n",
       "      <th>Measles</th>\n",
       "      <th>BMI</th>\n",
       "      <th>...</th>\n",
       "      <th>Polio</th>\n",
       "      <th>Total_expenditure</th>\n",
       "      <th>Diphtheria</th>\n",
       "      <th>HIV_AIDS</th>\n",
       "      <th>GDP</th>\n",
       "      <th>Population</th>\n",
       "      <th>thinness__1_19_years</th>\n",
       "      <th>thinness_5_9_years</th>\n",
       "      <th>Income_composition_of_resources</th>\n",
       "      <th>Schooling</th>\n",
       "    </tr>\n",
       "  </thead>\n",
       "  <tbody>\n",
       "    <tr>\n",
       "      <th>Life_expectancy</th>\n",
       "      <td>0.169623</td>\n",
       "      <td>0.481962</td>\n",
       "      <td>1.0</td>\n",
       "      <td>-0.696359</td>\n",
       "      <td>-0.196535</td>\n",
       "      <td>0.391598</td>\n",
       "      <td>0.381791</td>\n",
       "      <td>0.170555</td>\n",
       "      <td>-0.157574</td>\n",
       "      <td>0.555653</td>\n",
       "      <td>...</td>\n",
       "      <td>0.458449</td>\n",
       "      <td>0.207981</td>\n",
       "      <td>0.472253</td>\n",
       "      <td>-0.556457</td>\n",
       "      <td>0.430895</td>\n",
       "      <td>-0.028845</td>\n",
       "      <td>-0.467267</td>\n",
       "      <td>-0.461739</td>\n",
       "      <td>0.692483</td>\n",
       "      <td>0.715066</td>\n",
       "    </tr>\n",
       "  </tbody>\n",
       "</table>\n",
       "<p>1 rows × 21 columns</p>\n",
       "</div>"
      ],
      "text/plain": [
       "                     Year    Status  Life_expectancy  Adult_Mortality   \n",
       "Life_expectancy  0.169623  0.481962              1.0        -0.696359  \\\n",
       "\n",
       "                 infant_deaths   Alcohol  percentage_expenditure  Hepatitis_B   \n",
       "Life_expectancy      -0.196535  0.391598                0.381791     0.170555  \\\n",
       "\n",
       "                  Measles       BMI  ...     Polio  Total_expenditure   \n",
       "Life_expectancy -0.157574  0.555653  ...  0.458449           0.207981  \\\n",
       "\n",
       "                 Diphtheria  HIV_AIDS       GDP  Population   \n",
       "Life_expectancy    0.472253 -0.556457  0.430895   -0.028845  \\\n",
       "\n",
       "                 thinness__1_19_years  thinness_5_9_years   \n",
       "Life_expectancy             -0.467267           -0.461739  \\\n",
       "\n",
       "                 Income_composition_of_resources  Schooling  \n",
       "Life_expectancy                         0.692483   0.715066  \n",
       "\n",
       "[1 rows x 21 columns]"
      ]
     },
     "execution_count": 117,
     "metadata": {},
     "output_type": "execute_result"
    }
   ],
   "source": [
    "df.corr().iloc[2:3,:]"
   ]
  },
  {
   "cell_type": "code",
   "execution_count": 119,
   "id": "b9ecb306",
   "metadata": {},
   "outputs": [
    {
     "data": {
      "text/plain": [
       "<Axes: >"
      ]
     },
     "execution_count": 119,
     "metadata": {},
     "output_type": "execute_result"
    },
    {
     "data": {
      "image/png": "[encoded data removed]",
      "text/plain": [
       "<Figure size 1500x200 with 2 Axes>"
      ]
     },
     "metadata": {},
     "output_type": "display_data"
    }
   ],
   "source": [
    "plt.figure(figsize=(15,2))\n",
    "sns.heatmap(df.corr().iloc[2:3,:],annot=True)"
   ]
  },
  {
   "cell_type": "markdown",
   "id": "5d245b4d",
   "metadata": {},
   "source": [
    "###### 4.2 No Multicolinearity"
   ]
  },
  {
   "cell_type": "code",
   "execution_count": 120,
   "id": "007495c4",
   "metadata": {},
   "outputs": [],
   "source": [
    "x=df.drop(['Life_expectancy'],axis=1)"
   ]
  },
  {
   "cell_type": "code",
   "execution_count": 121,
   "id": "f1308fe5",
   "metadata": {},
   "outputs": [],
   "source": [
    "y=df['Life_expectancy']"
   ]
  },
  {
   "cell_type": "code",
   "execution_count": 122,
   "id": "d18f3145",
   "metadata": {},
   "outputs": [
    {
     "name": "stdout",
     "output_type": "stream",
     "text": [
      "[66.59156639167247, 19.845370589448592, 4.806268609963844, 188.84362466822384, 4.383869248735317, 6.537749067955801, 18.413108227531655, 1.4400927827827408, 8.114100236555197, 188.1926493964395, 26.162541251519606, 8.586354480342212, 28.372081624838472, 1.5892923350188597, 7.439273883681135, 1.5436306063437728, 19.329027782811018, 19.26154239068352, 31.498810927317194, 48.05505689773535]\n"
     ]
    }
   ],
   "source": [
    "vif_list=[]\n",
    "for i in range(x.shape[1]):\n",
    "    vif=variance_inflation_factor(x,i)\n",
    "    vif_list.append(vif)\n",
    "print(vif_list)"
   ]
  },
  {
   "cell_type": "markdown",
   "id": "18a7239f",
   "metadata": {},
   "source": [
    "##### 5. Model Training"
   ]
  },
  {
   "cell_type": "code",
   "execution_count": 123,
   "id": "093eb847",
   "metadata": {},
   "outputs": [],
   "source": [
    "x_train,x_test,y_train,y_test=train_test_split(x,y,test_size=0.2,random_state=10)"
   ]
  },
  {
   "cell_type": "code",
   "execution_count": 124,
   "id": "13ea30ec",
   "metadata": {},
   "outputs": [],
   "source": [
    "lin_reg=LinearRegression()"
   ]
  },
  {
   "cell_type": "code",
   "execution_count": 125,
   "id": "7dbdb1a2",
   "metadata": {},
   "outputs": [
    {
     "data": {
      "text/html": [
       "<style>#sk-container-id-1 {color: black;background-color: white;}#sk-container-id-1 pre{padding: 0;}#sk-container-id-1 div.sk-toggleable {background-color: white;}#sk-container-id-1 label.sk-toggleable__label {cursor: pointer;display: block;width: 100%;margin-bottom: 0;padding: 0.3em;box-sizing: border-box;text-align: center;}#sk-container-id-1 label.sk-toggleable__label-arrow:before {content: \"▸\";float: left;margin-right: 0.25em;color: #696969;}#sk-container-id-1 label.sk-toggleable__label-arrow:hover:before {color: black;}#sk-container-id-1 div.sk-estimator:hover label.sk-toggleable__label-arrow:before {color: black;}#sk-container-id-1 div.sk-toggleable__content {max-height: 0;max-width: 0;overflow: hidden;text-align: left;background-color: #f0f8ff;}#sk-container-id-1 div.sk-toggleable__content pre {margin: 0.2em;color: black;border-radius: 0.25em;background-color: #f0f8ff;}#sk-container-id-1 input.sk-toggleable__control:checked~div.sk-toggleable__content {max-height: 200px;max-width: 100%;overflow: auto;}#sk-container-id-1 input.sk-toggleable__control:checked~label.sk-toggleable__label-arrow:before {content: \"▾\";}#sk-container-id-1 div.sk-estimator input.sk-toggleable__control:checked~label.sk-toggleable__label {background-color: #d4ebff;}#sk-container-id-1 div.sk-label input.sk-toggleable__control:checked~label.sk-toggleable__label {background-color: #d4ebff;}#sk-container-id-1 input.sk-hidden--visually {border: 0;clip: rect(1px 1px 1px 1px);clip: rect(1px, 1px, 1px, 1px);height: 1px;margin: -1px;overflow: hidden;padding: 0;position: absolute;width: 1px;}#sk-container-id-1 div.sk-estimator {font-family: monospace;background-color: #f0f8ff;border: 1px dotted black;border-radius: 0.25em;box-sizing: border-box;margin-bottom: 0.5em;}#sk-container-id-1 div.sk-estimator:hover {background-color: #d4ebff;}#sk-container-id-1 div.sk-parallel-item::after {content: \"\";width: 100%;border-bottom: 1px solid gray;flex-grow: 1;}#sk-container-id-1 div.sk-label:hover label.sk-toggleable__label {background-color: #d4ebff;}#sk-container-id-1 div.sk-serial::before {content: \"\";position: absolute;border-left: 1px solid gray;box-sizing: border-box;top: 0;bottom: 0;left: 50%;z-index: 0;}#sk-container-id-1 div.sk-serial {display: flex;flex-direction: column;align-items: center;background-color: white;padding-right: 0.2em;padding-left: 0.2em;position: relative;}#sk-container-id-1 div.sk-item {position: relative;z-index: 1;}#sk-container-id-1 div.sk-parallel {display: flex;align-items: stretch;justify-content: center;background-color: white;position: relative;}#sk-container-id-1 div.sk-item::before, #sk-container-id-1 div.sk-parallel-item::before {content: \"\";position: absolute;border-left: 1px solid gray;box-sizing: border-box;top: 0;bottom: 0;left: 50%;z-index: -1;}#sk-container-id-1 div.sk-parallel-item {display: flex;flex-direction: column;z-index: 1;position: relative;background-color: white;}#sk-container-id-1 div.sk-parallel-item:first-child::after {align-self: flex-end;width: 50%;}#sk-container-id-1 div.sk-parallel-item:last-child::after {align-self: flex-start;width: 50%;}#sk-container-id-1 div.sk-parallel-item:only-child::after {width: 0;}#sk-container-id-1 div.sk-dashed-wrapped {border: 1px dashed gray;margin: 0 0.4em 0.5em 0.4em;box-sizing: border-box;padding-bottom: 0.4em;background-color: white;}#sk-container-id-1 div.sk-label label {font-family: monospace;font-weight: bold;display: inline-block;line-height: 1.2em;}#sk-container-id-1 div.sk-label-container {text-align: center;}#sk-container-id-1 div.sk-container {/* jupyter's `normalize.less` sets `[hidden] { display: none; }` but bootstrap.min.css set `[hidden] { display: none !important; }` so we also need the `!important` here to be able to override the default hidden behavior on the sphinx rendered scikit-learn.org. See: https://github.com/scikit-learn/scikit-learn/issues/21755 */display: inline-block !important;position: relative;}#sk-container-id-1 div.sk-text-repr-fallback {display: none;}</style><div id=\"sk-container-id-1\" class=\"sk-top-container\"><div class=\"sk-text-repr-fallback\"><pre>LinearRegression()</pre><b>In a Jupyter environment, please rerun this cell to show the HTML representation or trust the notebook. <br />On GitHub, the HTML representation is unable to render, please try loading this page with nbviewer.org.</b></div><div class=\"sk-container\" hidden><div class=\"sk-item\"><div class=\"sk-estimator sk-toggleable\"><input class=\"sk-toggleable__control sk-hidden--visually\" id=\"sk-estimator-id-1\" type=\"checkbox\" checked><label for=\"sk-estimator-id-1\" class=\"sk-toggleable__label sk-toggleable__label-arrow\">LinearRegression</label><div class=\"sk-toggleable__content\"><pre>LinearRegression()</pre></div></div></div></div></div>"
      ],
      "text/plain": [
       "LinearRegression()"
      ]
     },
     "execution_count": 125,
     "metadata": {},
     "output_type": "execute_result"
    }
   ],
   "source": [
    "lin_reg.fit(x_train,y_train)"
   ]
  },
  {
   "cell_type": "code",
   "execution_count": 129,
   "id": "aa71e5ac",
   "metadata": {},
   "outputs": [
    {
     "data": {
      "text/plain": [
       "(588,)"
      ]
     },
     "execution_count": 129,
     "metadata": {},
     "output_type": "execute_result"
    }
   ],
   "source": [
    "y_pred_test=lin_reg.predict(x_test)\n",
    "y_pred_test.shape"
   ]
  },
  {
   "cell_type": "code",
   "execution_count": 127,
   "id": "e8ac5f93",
   "metadata": {},
   "outputs": [],
   "source": [
    "y_pred_train=lin_reg.predict(x_train)\n"
   ]
  },
  {
   "cell_type": "markdown",
   "id": "7347be14",
   "metadata": {},
   "source": [
    "##### 6. Model Evaluation"
   ]
  },
  {
   "cell_type": "markdown",
   "id": "06e52a60",
   "metadata": {},
   "source": [
    "###### Tetsing Data Evaluation"
   ]
  },
  {
   "cell_type": "code",
   "execution_count": 133,
   "id": "b042470e",
   "metadata": {},
   "outputs": [
    {
     "name": "stdout",
     "output_type": "stream",
     "text": [
      "MSE_test: 15.352893972532794\n",
      "RMSE_test: 3.918276913712556\n",
      "MAE_test: 2.8980758344144584\n",
      "R2_test: 0.8281930170124919\n",
      "Adj_R2_test: 0.8218185529793864\n"
     ]
    }
   ],
   "source": [
    "residual_test=y_test-y_pred_test\n",
    "#print('residual_test:', residual_test)\n",
    "mse_test=mean_squared_error(y_test,y_pred_test)\n",
    "print('MSE_test:', mse_test)\n",
    "rmse_test=np.sqrt(mse_test)\n",
    "print('RMSE_test:', rmse_test)\n",
    "mae_test=mean_absolute_error(y_test,y_pred_test)\n",
    "print('MAE_test:', mae_test)\n",
    "r2_test=r2_score(y_test,y_pred_test)\n",
    "print('R2_test:', r2_test)\n",
    "adj_r2_test=1-((1-r2_test)*(588-1)/(588-21-1))\n",
    "print('Adj_R2_test:', adj_r2_test)"
   ]
  },
  {
   "cell_type": "markdown",
   "id": "335223d4",
   "metadata": {},
   "source": [
    "###### Training Data Evaluation"
   ]
  },
  {
   "cell_type": "code",
   "execution_count": 134,
   "id": "f2b6d752",
   "metadata": {},
   "outputs": [
    {
     "name": "stdout",
     "output_type": "stream",
     "text": [
      "MSE_train: 16.47790534989862\n",
      "RMSE_train: 4.059298627829519\n",
      "MAE_train: 3.0303078151332716\n",
      "R2_train: 0.8181502311476213\n",
      "Adj_R2_train: 0.8165098337481798\n"
     ]
    }
   ],
   "source": [
    "residual_train=y_train-y_pred_train\n",
    "#print('residual_test:', residual_test)\n",
    "mse_train=mean_squared_error(y_train,y_pred_train)\n",
    "print('MSE_train:', mse_train)\n",
    "rmse_train=np.sqrt(mse_train)\n",
    "print('RMSE_train:', rmse_train)\n",
    "mae_train=mean_absolute_error(y_train,y_pred_train)\n",
    "print('MAE_train:', mae_train)\n",
    "r2_train=r2_score(y_train,y_pred_train)\n",
    "print('R2_train:', r2_train)\n",
    "adj_r2_train=1-((1-r2_train)*(2350-1)/(2350-21-1))\n",
    "print('Adj_R2_train:', adj_r2_train)"
   ]
  },
  {
   "cell_type": "markdown",
   "id": "d856a23c",
   "metadata": {},
   "source": [
    "###### 4.3 Normality of Residual"
   ]
  },
  {
   "cell_type": "markdown",
   "id": "eba5ba30",
   "metadata": {},
   "source": [
    "###### Q-Q plot"
   ]
  },
  {
   "cell_type": "code",
   "execution_count": 135,
   "id": "80973d5e",
   "metadata": {},
   "outputs": [
    {
     "data": {
      "image/png": "[encoded data removed]",
      "text/plain": [
       "<Figure size 640x480 with 1 Axes>"
      ]
     },
     "execution_count": 135,
     "metadata": {},
     "output_type": "execute_result"
    },
    {
     "data": {
      "image/png": "[encoded data removed]",
      "text/plain": [
       "<Figure size 640x480 with 1 Axes>"
      ]
     },
     "metadata": {},
     "output_type": "display_data"
    }
   ],
   "source": [
    "import statsmodels.api as sm\n",
    "sm.qqplot(residual_train,line='45',fit=True)"
   ]
  },
  {
   "cell_type": "markdown",
   "id": "db8d74fa",
   "metadata": {},
   "source": [
    "###### skewness"
   ]
  },
  {
   "cell_type": "code",
   "execution_count": 136,
   "id": "1157bbe9",
   "metadata": {},
   "outputs": [
    {
     "data": {
      "text/plain": [
       "-0.22988783278071187"
      ]
     },
     "execution_count": 136,
     "metadata": {},
     "output_type": "execute_result"
    }
   ],
   "source": [
    "from scipy.stats import skew\n",
    "skew(residual_train)"
   ]
  },
  {
   "cell_type": "code",
   "execution_count": 138,
   "id": "2d0aaed0",
   "metadata": {},
   "outputs": [
    {
     "data": {
      "text/plain": [
       "-0.13764648043700503"
      ]
     },
     "execution_count": 138,
     "metadata": {},
     "output_type": "execute_result"
    }
   ],
   "source": [
    "skew(residual_test)"
   ]
  },
  {
   "cell_type": "markdown",
   "id": "8393ef6d",
   "metadata": {},
   "source": [
    "###### kdeplot"
   ]
  },
  {
   "cell_type": "code",
   "execution_count": 137,
   "id": "a8128168",
   "metadata": {},
   "outputs": [
    {
     "data": {
      "text/plain": [
       "<Axes: xlabel='Life_expectancy', ylabel='Density'>"
      ]
     },
     "execution_count": 137,
     "metadata": {},
     "output_type": "execute_result"
    },
    {
     "data": {
      "image/png": "[encoded data removed]",
      "text/plain": [
       "<Figure size 640x480 with 1 Axes>"
      ]
     },
     "metadata": {},
     "output_type": "display_data"
    }
   ],
   "source": [
    "sns.kdeplot(residual_train)"
   ]
  },
  {
   "cell_type": "markdown",
   "id": "ef73fc6f",
   "metadata": {},
   "source": [
    "###### 4.4 Homoscedasticity"
   ]
  },
  {
   "cell_type": "code",
   "execution_count": 139,
   "id": "2f034581",
   "metadata": {},
   "outputs": [
    {
     "data": {
      "text/plain": [
       "<Axes: xlabel='Life_expectancy', ylabel='Life_expectancy'>"
      ]
     },
     "execution_count": 139,
     "metadata": {},
     "output_type": "execute_result"
    },
    {
     "data": {
      "image/png": "[encoded data removed]",
      "text/plain": [
       "<Figure size 640x480 with 1 Axes>"
      ]
     },
     "metadata": {},
     "output_type": "display_data"
    }
   ],
   "source": [
    "sns.scatterplot(x=y_train,y=residual_train)"
   ]
  },
  {
   "cell_type": "code",
   "execution_count": 140,
   "id": "419beec5",
   "metadata": {},
   "outputs": [],
   "source": [
    "json_data={'Status':{'Developing':1,'Developed':2}}"
   ]
  },
  {
   "cell_type": "code",
   "execution_count": 141,
   "id": "52588f23",
   "metadata": {},
   "outputs": [],
   "source": [
    "with open('json_data.json','w') as f:\n",
    "    json.dump(json_data,f)"
   ]
  },
  {
   "cell_type": "code",
   "execution_count": 142,
   "id": "38bf6685",
   "metadata": {},
   "outputs": [],
   "source": [
    "with open('Linear_Regression_Life_expectancy.pkl','wb') as f:\n",
    "    pickle.dump(lin_reg,f)"
   ]
  },
  {
   "cell_type": "code",
   "execution_count": null,
   "id": "921e7432",
   "metadata": {},
   "outputs": [],
   "source": []
  }
 ],
 "metadata": {
  "kernelspec": {
   "display_name": "Python 3 (ipykernel)",
   "language": "python",
   "name": "python3"
  },
  "language_info": {
   "codemirror_mode": {
    "name": "ipython",
    "version": 3
   },
   "file_extension": ".py",
   "mimetype": "text/x-python",
   "name": "python",
   "nbconvert_exporter": "python",
   "pygments_lexer": "ipython3",
   "version": "3.10.10"
  }
 },
 "nbformat": 4,
 "nbformat_minor": 5
}
